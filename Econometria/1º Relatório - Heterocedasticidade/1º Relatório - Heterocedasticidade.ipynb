{
 "cells": [
  {
   "cell_type": "markdown",
   "metadata": {},
   "source": [
    "### Importação de Pacotes"
   ]
  },
  {
   "cell_type": "code",
   "execution_count": 1,
   "metadata": {},
   "outputs": [],
   "source": [
    "import pandas as pd\n",
    "import numpy as np\n",
    "import matplotlib.pyplot as plt\n",
    "from sklearn import linear_model\n",
    "import statsmodels.api as sm\n",
    "from statsmodels.stats.diagnostic import het_breuschpagan, het_goldfeldquandt,het_white\n",
    "from statsmodels.compat import lzip\n",
    "import seaborn as sns\n",
    "from sklearn.linear_model import LinearRegression\n",
    "import pingouin as pg\n",
    "from statsmodels.graphics.gofplots import qqplot\n",
    "from statsmodels.graphics.tsaplots import plot_acf"
   ]
  },
  {
   "cell_type": "markdown",
   "metadata": {},
   "source": [
    "### Importação dos Dados\n"
   ]
  },
  {
   "cell_type": "code",
   "execution_count": 2,
   "metadata": {},
   "outputs": [],
   "source": [
    "#Caminho do arquivo\n",
    "path = '/media/matheus/HD/UFPR/2021/2º Semestre 2021/Estatística Econômica e Introdução à Econometria/1. Relatório Enade/2018/3.DADOS/microdados_enade_2018.txt'"
   ]
  },
  {
   "cell_type": "code",
   "execution_count": 3,
   "metadata": {},
   "outputs": [
    {
     "name": "stderr",
     "output_type": "stream",
     "text": [
      "/home/matheus/miniconda3/envs/econometria/lib/python3.9/site-packages/outdated/utils.py:14: OutdatedPackageWarning: The package pingouin is out of date. Your version is 0.5.1, the latest is 0.5.2.\n",
      "Set the environment variable OUTDATED_IGNORE=1 to disable these warnings.\n",
      "  return warn(\n"
     ]
    }
   ],
   "source": [
    "enade = pd.read_csv(path, sep=';', encoding='latin-1', header=0) #importação"
   ]
  },
  {
   "cell_type": "code",
   "execution_count": 4,
   "metadata": {},
   "outputs": [
    {
     "data": {
      "text/plain": [
       "(548127, 137)"
      ]
     },
     "execution_count": 4,
     "metadata": {},
     "output_type": "execute_result"
    }
   ],
   "source": [
    "enade.shape #dimensões da base de dados"
   ]
  },
  {
   "cell_type": "markdown",
   "metadata": {},
   "source": [
    "### Tratamento da base"
   ]
  },
  {
   "cell_type": "code",
   "execution_count": 5,
   "metadata": {},
   "outputs": [
    {
     "data": {
      "text/html": [
       "<div>\n",
       "<style scoped>\n",
       "    .dataframe tbody tr th:only-of-type {\n",
       "        vertical-align: middle;\n",
       "    }\n",
       "\n",
       "    .dataframe tbody tr th {\n",
       "        vertical-align: top;\n",
       "    }\n",
       "\n",
       "    .dataframe thead th {\n",
       "        text-align: right;\n",
       "    }\n",
       "</style>\n",
       "<table border=\"1\" class=\"dataframe\">\n",
       "  <thead>\n",
       "    <tr style=\"text-align: right;\">\n",
       "      <th></th>\n",
       "      <th>NU_ANO</th>\n",
       "      <th>CO_IES</th>\n",
       "      <th>CO_CATEGAD</th>\n",
       "      <th>CO_ORGACAD</th>\n",
       "      <th>CO_GRUPO</th>\n",
       "      <th>CO_CURSO</th>\n",
       "      <th>CO_MODALIDADE</th>\n",
       "      <th>CO_MUNIC_CURSO</th>\n",
       "      <th>CO_UF_CURSO</th>\n",
       "      <th>CO_REGIAO_CURSO</th>\n",
       "      <th>...</th>\n",
       "      <th>QE_I59</th>\n",
       "      <th>QE_I60</th>\n",
       "      <th>QE_I61</th>\n",
       "      <th>QE_I62</th>\n",
       "      <th>QE_I63</th>\n",
       "      <th>QE_I64</th>\n",
       "      <th>QE_I65</th>\n",
       "      <th>QE_I66</th>\n",
       "      <th>QE_I67</th>\n",
       "      <th>QE_I68</th>\n",
       "    </tr>\n",
       "  </thead>\n",
       "  <tbody>\n",
       "    <tr>\n",
       "      <th>0</th>\n",
       "      <td>2018</td>\n",
       "      <td>1356</td>\n",
       "      <td>10003</td>\n",
       "      <td>10020</td>\n",
       "      <td>1</td>\n",
       "      <td>47116</td>\n",
       "      <td>1</td>\n",
       "      <td>3546603</td>\n",
       "      <td>35</td>\n",
       "      <td>3</td>\n",
       "      <td>...</td>\n",
       "      <td>6.0</td>\n",
       "      <td>6.0</td>\n",
       "      <td>6.0</td>\n",
       "      <td>6.0</td>\n",
       "      <td>6.0</td>\n",
       "      <td>6.0</td>\n",
       "      <td>6.0</td>\n",
       "      <td>6.0</td>\n",
       "      <td>6.0</td>\n",
       "      <td>5.0</td>\n",
       "    </tr>\n",
       "    <tr>\n",
       "      <th>1</th>\n",
       "      <td>2018</td>\n",
       "      <td>1356</td>\n",
       "      <td>10003</td>\n",
       "      <td>10020</td>\n",
       "      <td>1</td>\n",
       "      <td>47116</td>\n",
       "      <td>1</td>\n",
       "      <td>3546603</td>\n",
       "      <td>35</td>\n",
       "      <td>3</td>\n",
       "      <td>...</td>\n",
       "      <td>6.0</td>\n",
       "      <td>6.0</td>\n",
       "      <td>6.0</td>\n",
       "      <td>6.0</td>\n",
       "      <td>6.0</td>\n",
       "      <td>6.0</td>\n",
       "      <td>6.0</td>\n",
       "      <td>6.0</td>\n",
       "      <td>6.0</td>\n",
       "      <td>6.0</td>\n",
       "    </tr>\n",
       "    <tr>\n",
       "      <th>2</th>\n",
       "      <td>2018</td>\n",
       "      <td>1356</td>\n",
       "      <td>10003</td>\n",
       "      <td>10020</td>\n",
       "      <td>1</td>\n",
       "      <td>47116</td>\n",
       "      <td>1</td>\n",
       "      <td>3546603</td>\n",
       "      <td>35</td>\n",
       "      <td>3</td>\n",
       "      <td>...</td>\n",
       "      <td>6.0</td>\n",
       "      <td>6.0</td>\n",
       "      <td>6.0</td>\n",
       "      <td>6.0</td>\n",
       "      <td>6.0</td>\n",
       "      <td>6.0</td>\n",
       "      <td>6.0</td>\n",
       "      <td>6.0</td>\n",
       "      <td>6.0</td>\n",
       "      <td>5.0</td>\n",
       "    </tr>\n",
       "    <tr>\n",
       "      <th>3</th>\n",
       "      <td>2018</td>\n",
       "      <td>1356</td>\n",
       "      <td>10003</td>\n",
       "      <td>10020</td>\n",
       "      <td>1</td>\n",
       "      <td>47116</td>\n",
       "      <td>1</td>\n",
       "      <td>3546603</td>\n",
       "      <td>35</td>\n",
       "      <td>3</td>\n",
       "      <td>...</td>\n",
       "      <td>6.0</td>\n",
       "      <td>6.0</td>\n",
       "      <td>6.0</td>\n",
       "      <td>6.0</td>\n",
       "      <td>5.0</td>\n",
       "      <td>6.0</td>\n",
       "      <td>6.0</td>\n",
       "      <td>6.0</td>\n",
       "      <td>6.0</td>\n",
       "      <td>4.0</td>\n",
       "    </tr>\n",
       "    <tr>\n",
       "      <th>4</th>\n",
       "      <td>2018</td>\n",
       "      <td>1356</td>\n",
       "      <td>10003</td>\n",
       "      <td>10020</td>\n",
       "      <td>1</td>\n",
       "      <td>47116</td>\n",
       "      <td>1</td>\n",
       "      <td>3546603</td>\n",
       "      <td>35</td>\n",
       "      <td>3</td>\n",
       "      <td>...</td>\n",
       "      <td>6.0</td>\n",
       "      <td>6.0</td>\n",
       "      <td>6.0</td>\n",
       "      <td>6.0</td>\n",
       "      <td>6.0</td>\n",
       "      <td>6.0</td>\n",
       "      <td>6.0</td>\n",
       "      <td>6.0</td>\n",
       "      <td>6.0</td>\n",
       "      <td>6.0</td>\n",
       "    </tr>\n",
       "  </tbody>\n",
       "</table>\n",
       "<p>5 rows × 137 columns</p>\n",
       "</div>"
      ],
      "text/plain": [
       "   NU_ANO  CO_IES  CO_CATEGAD  CO_ORGACAD  CO_GRUPO  CO_CURSO  CO_MODALIDADE  \\\n",
       "0    2018    1356       10003       10020         1     47116              1   \n",
       "1    2018    1356       10003       10020         1     47116              1   \n",
       "2    2018    1356       10003       10020         1     47116              1   \n",
       "3    2018    1356       10003       10020         1     47116              1   \n",
       "4    2018    1356       10003       10020         1     47116              1   \n",
       "\n",
       "   CO_MUNIC_CURSO  CO_UF_CURSO  CO_REGIAO_CURSO  ...  QE_I59 QE_I60  QE_I61  \\\n",
       "0         3546603           35                3  ...     6.0    6.0     6.0   \n",
       "1         3546603           35                3  ...     6.0    6.0     6.0   \n",
       "2         3546603           35                3  ...     6.0    6.0     6.0   \n",
       "3         3546603           35                3  ...     6.0    6.0     6.0   \n",
       "4         3546603           35                3  ...     6.0    6.0     6.0   \n",
       "\n",
       "   QE_I62  QE_I63  QE_I64  QE_I65  QE_I66  QE_I67  QE_I68  \n",
       "0     6.0     6.0     6.0     6.0     6.0     6.0     5.0  \n",
       "1     6.0     6.0     6.0     6.0     6.0     6.0     6.0  \n",
       "2     6.0     6.0     6.0     6.0     6.0     6.0     5.0  \n",
       "3     6.0     5.0     6.0     6.0     6.0     6.0     4.0  \n",
       "4     6.0     6.0     6.0     6.0     6.0     6.0     6.0  \n",
       "\n",
       "[5 rows x 137 columns]"
      ]
     },
     "execution_count": 5,
     "metadata": {},
     "output_type": "execute_result"
    }
   ],
   "source": [
    "enade.head()"
   ]
  },
  {
   "cell_type": "code",
   "execution_count": 6,
   "metadata": {},
   "outputs": [],
   "source": [
    "economia = enade[enade['CO_GRUPO']==13] #seleciona os dados do curso de economia\n",
    "economia = economia[economia['NT_GER'].notna()] #seleciona os dados que não são nulos\n",
    "economia['NT_GER'] = economia['NT_GER'].replace(',', '.', regex=True) #substitui a vírgula por ponto\n",
    "economia['NT_GER'] = pd.to_numeric(economia['NT_GER']) #converte os dados para números"
   ]
  },
  {
   "cell_type": "code",
   "execution_count": 7,
   "metadata": {},
   "outputs": [],
   "source": [
    "#Filtra base para varíaveis selecionadas \n",
    "economia_var = economia.filter(['NT_GER','QE_I04', 'QE_I05','QE_I10','QE_I17','QE_I23'])\n",
    "#Variáveis\n",
    "#Nota geral: NT_GER\n",
    "#Ensino Médio: QE_I17 \n",
    "#Tempo disponível(horas trabalhadas): QE_I10\n",
    "#tempo de estudo (extra classe): - QE_I23\n",
    "#escolaridade dos pais(tem nível superior?): QE_I04 - Pai, QE_I05 - Mãe\n"
   ]
  },
  {
   "cell_type": "code",
   "execution_count": 8,
   "metadata": {},
   "outputs": [],
   "source": [
    "#Renomeia as colunas\n",
    "economia_var.columns = ['Nota Geral', 'Escolaridade Pai','Escolaridade Mãe', 'Horas de Trabalho','Ensino Médio','Tempo de Estudo']"
   ]
  },
  {
   "cell_type": "code",
   "execution_count": 9,
   "metadata": {},
   "outputs": [],
   "source": [
    "dict_nova_resposta_escolaridade = {\n",
    "    'A':0,\n",
    "    'B':0,\n",
    "    'C':0,\n",
    "    'D':0, \n",
    "    'E':1,\n",
    "    'F':1}\n",
    "\n",
    "dict_nova_resposta_EM = {\n",
    "    'A':0,\n",
    "    'B':1,\n",
    "    'C':1,\n",
    "    'D':0, \n",
    "    'E':1,\n",
    "    'F':1}\n",
    "\n",
    "dict_nova_resposta_estudo = {\n",
    "    'A':0,\n",
    "    'B':1,\n",
    "    'C':2,\n",
    "    'D':3, \n",
    "    'E':4}\n",
    "\n",
    "dict_nova_resposta_trabalho = {\n",
    "    'A':0,\n",
    "    'B':1,\n",
    "    'C':2,\n",
    "    'D':3, \n",
    "    'E':4}\n",
    "\n"
   ]
  },
  {
   "cell_type": "code",
   "execution_count": 10,
   "metadata": {},
   "outputs": [],
   "source": [
    "#Substitui os valores de escolaridade por respostas\n",
    "economia_var['Escolaridade Pai'] = economia_var['Escolaridade Pai'].map(dict_nova_resposta_escolaridade)\n",
    "economia_var['Escolaridade Mãe'] = economia_var['Escolaridade Mãe'].map(dict_nova_resposta_escolaridade)\n",
    "economia_var['Ensino Médio'] = economia_var['Ensino Médio'].map(dict_nova_resposta_EM)\n",
    "economia_var['Tempo de Estudo'] = economia_var['Tempo de Estudo'].map(dict_nova_resposta_estudo)\n",
    "economia_var['Horas de Trabalho'] = economia_var['Horas de Trabalho'].map(dict_nova_resposta_trabalho)"
   ]
  },
  {
   "cell_type": "code",
   "execution_count": 11,
   "metadata": {},
   "outputs": [],
   "source": [
    "economia_var = economia_var[(economia_var['Ensino Médio']!='C')&(economia_var['Ensino Médio']!='F')]"
   ]
  },
  {
   "cell_type": "code",
   "execution_count": 12,
   "metadata": {},
   "outputs": [],
   "source": [
    "dummies = pd.get_dummies(economia_var, \n",
    "    columns=[\n",
    "        'Escolaridade Pai',\n",
    "        'Escolaridade Mãe',\n",
    "        'Tempo de Estudo',\n",
    "        'Horas de Trabalho',\n",
    "        'Ensino Médio'\n",
    "        ])"
   ]
  },
  {
   "cell_type": "code",
   "execution_count": 13,
   "metadata": {},
   "outputs": [
    {
     "data": {
      "text/html": [
       "<div>\n",
       "<style scoped>\n",
       "    .dataframe tbody tr th:only-of-type {\n",
       "        vertical-align: middle;\n",
       "    }\n",
       "\n",
       "    .dataframe tbody tr th {\n",
       "        vertical-align: top;\n",
       "    }\n",
       "\n",
       "    .dataframe thead th {\n",
       "        text-align: right;\n",
       "    }\n",
       "</style>\n",
       "<table border=\"1\" class=\"dataframe\">\n",
       "  <thead>\n",
       "    <tr style=\"text-align: right;\">\n",
       "      <th></th>\n",
       "      <th>Nota Geral</th>\n",
       "      <th>Escolaridade Pai_0.0</th>\n",
       "      <th>Escolaridade Pai_1.0</th>\n",
       "      <th>Escolaridade Mãe_0.0</th>\n",
       "      <th>Escolaridade Mãe_1.0</th>\n",
       "      <th>Tempo de Estudo_0.0</th>\n",
       "      <th>Tempo de Estudo_1.0</th>\n",
       "      <th>Tempo de Estudo_2.0</th>\n",
       "      <th>Tempo de Estudo_3.0</th>\n",
       "      <th>Tempo de Estudo_4.0</th>\n",
       "      <th>Horas de Trabalho_0.0</th>\n",
       "      <th>Horas de Trabalho_1.0</th>\n",
       "      <th>Horas de Trabalho_2.0</th>\n",
       "      <th>Horas de Trabalho_3.0</th>\n",
       "      <th>Horas de Trabalho_4.0</th>\n",
       "      <th>Ensino Médio_0.0</th>\n",
       "      <th>Ensino Médio_1.0</th>\n",
       "    </tr>\n",
       "  </thead>\n",
       "  <tbody>\n",
       "    <tr>\n",
       "      <th>160</th>\n",
       "      <td>24.9</td>\n",
       "      <td>1</td>\n",
       "      <td>0</td>\n",
       "      <td>1</td>\n",
       "      <td>0</td>\n",
       "      <td>0</td>\n",
       "      <td>0</td>\n",
       "      <td>1</td>\n",
       "      <td>0</td>\n",
       "      <td>0</td>\n",
       "      <td>0</td>\n",
       "      <td>0</td>\n",
       "      <td>0</td>\n",
       "      <td>0</td>\n",
       "      <td>1</td>\n",
       "      <td>1</td>\n",
       "      <td>0</td>\n",
       "    </tr>\n",
       "    <tr>\n",
       "      <th>161</th>\n",
       "      <td>25.6</td>\n",
       "      <td>1</td>\n",
       "      <td>0</td>\n",
       "      <td>1</td>\n",
       "      <td>0</td>\n",
       "      <td>0</td>\n",
       "      <td>1</td>\n",
       "      <td>0</td>\n",
       "      <td>0</td>\n",
       "      <td>0</td>\n",
       "      <td>0</td>\n",
       "      <td>0</td>\n",
       "      <td>0</td>\n",
       "      <td>0</td>\n",
       "      <td>1</td>\n",
       "      <td>1</td>\n",
       "      <td>0</td>\n",
       "    </tr>\n",
       "    <tr>\n",
       "      <th>162</th>\n",
       "      <td>48.7</td>\n",
       "      <td>1</td>\n",
       "      <td>0</td>\n",
       "      <td>1</td>\n",
       "      <td>0</td>\n",
       "      <td>0</td>\n",
       "      <td>0</td>\n",
       "      <td>1</td>\n",
       "      <td>0</td>\n",
       "      <td>0</td>\n",
       "      <td>0</td>\n",
       "      <td>0</td>\n",
       "      <td>0</td>\n",
       "      <td>0</td>\n",
       "      <td>1</td>\n",
       "      <td>1</td>\n",
       "      <td>0</td>\n",
       "    </tr>\n",
       "    <tr>\n",
       "      <th>163</th>\n",
       "      <td>35.7</td>\n",
       "      <td>1</td>\n",
       "      <td>0</td>\n",
       "      <td>1</td>\n",
       "      <td>0</td>\n",
       "      <td>0</td>\n",
       "      <td>1</td>\n",
       "      <td>0</td>\n",
       "      <td>0</td>\n",
       "      <td>0</td>\n",
       "      <td>0</td>\n",
       "      <td>0</td>\n",
       "      <td>0</td>\n",
       "      <td>0</td>\n",
       "      <td>1</td>\n",
       "      <td>1</td>\n",
       "      <td>0</td>\n",
       "    </tr>\n",
       "    <tr>\n",
       "      <th>164</th>\n",
       "      <td>33.9</td>\n",
       "      <td>1</td>\n",
       "      <td>0</td>\n",
       "      <td>1</td>\n",
       "      <td>0</td>\n",
       "      <td>0</td>\n",
       "      <td>0</td>\n",
       "      <td>1</td>\n",
       "      <td>0</td>\n",
       "      <td>0</td>\n",
       "      <td>0</td>\n",
       "      <td>0</td>\n",
       "      <td>0</td>\n",
       "      <td>0</td>\n",
       "      <td>1</td>\n",
       "      <td>0</td>\n",
       "      <td>1</td>\n",
       "    </tr>\n",
       "    <tr>\n",
       "      <th>...</th>\n",
       "      <td>...</td>\n",
       "      <td>...</td>\n",
       "      <td>...</td>\n",
       "      <td>...</td>\n",
       "      <td>...</td>\n",
       "      <td>...</td>\n",
       "      <td>...</td>\n",
       "      <td>...</td>\n",
       "      <td>...</td>\n",
       "      <td>...</td>\n",
       "      <td>...</td>\n",
       "      <td>...</td>\n",
       "      <td>...</td>\n",
       "      <td>...</td>\n",
       "      <td>...</td>\n",
       "      <td>...</td>\n",
       "      <td>...</td>\n",
       "    </tr>\n",
       "    <tr>\n",
       "      <th>546659</th>\n",
       "      <td>40.9</td>\n",
       "      <td>0</td>\n",
       "      <td>1</td>\n",
       "      <td>0</td>\n",
       "      <td>1</td>\n",
       "      <td>0</td>\n",
       "      <td>1</td>\n",
       "      <td>0</td>\n",
       "      <td>0</td>\n",
       "      <td>0</td>\n",
       "      <td>0</td>\n",
       "      <td>0</td>\n",
       "      <td>0</td>\n",
       "      <td>0</td>\n",
       "      <td>1</td>\n",
       "      <td>1</td>\n",
       "      <td>0</td>\n",
       "    </tr>\n",
       "    <tr>\n",
       "      <th>547633</th>\n",
       "      <td>32.2</td>\n",
       "      <td>1</td>\n",
       "      <td>0</td>\n",
       "      <td>0</td>\n",
       "      <td>1</td>\n",
       "      <td>0</td>\n",
       "      <td>1</td>\n",
       "      <td>0</td>\n",
       "      <td>0</td>\n",
       "      <td>0</td>\n",
       "      <td>1</td>\n",
       "      <td>0</td>\n",
       "      <td>0</td>\n",
       "      <td>0</td>\n",
       "      <td>0</td>\n",
       "      <td>0</td>\n",
       "      <td>1</td>\n",
       "    </tr>\n",
       "    <tr>\n",
       "      <th>547634</th>\n",
       "      <td>27.8</td>\n",
       "      <td>0</td>\n",
       "      <td>1</td>\n",
       "      <td>1</td>\n",
       "      <td>0</td>\n",
       "      <td>0</td>\n",
       "      <td>0</td>\n",
       "      <td>0</td>\n",
       "      <td>1</td>\n",
       "      <td>0</td>\n",
       "      <td>0</td>\n",
       "      <td>0</td>\n",
       "      <td>1</td>\n",
       "      <td>0</td>\n",
       "      <td>0</td>\n",
       "      <td>1</td>\n",
       "      <td>0</td>\n",
       "    </tr>\n",
       "    <tr>\n",
       "      <th>547635</th>\n",
       "      <td>30.2</td>\n",
       "      <td>1</td>\n",
       "      <td>0</td>\n",
       "      <td>1</td>\n",
       "      <td>0</td>\n",
       "      <td>0</td>\n",
       "      <td>1</td>\n",
       "      <td>0</td>\n",
       "      <td>0</td>\n",
       "      <td>0</td>\n",
       "      <td>0</td>\n",
       "      <td>0</td>\n",
       "      <td>0</td>\n",
       "      <td>1</td>\n",
       "      <td>0</td>\n",
       "      <td>1</td>\n",
       "      <td>0</td>\n",
       "    </tr>\n",
       "    <tr>\n",
       "      <th>547636</th>\n",
       "      <td>34.2</td>\n",
       "      <td>0</td>\n",
       "      <td>1</td>\n",
       "      <td>0</td>\n",
       "      <td>1</td>\n",
       "      <td>0</td>\n",
       "      <td>1</td>\n",
       "      <td>0</td>\n",
       "      <td>0</td>\n",
       "      <td>0</td>\n",
       "      <td>1</td>\n",
       "      <td>0</td>\n",
       "      <td>0</td>\n",
       "      <td>0</td>\n",
       "      <td>0</td>\n",
       "      <td>1</td>\n",
       "      <td>0</td>\n",
       "    </tr>\n",
       "  </tbody>\n",
       "</table>\n",
       "<p>8073 rows × 17 columns</p>\n",
       "</div>"
      ],
      "text/plain": [
       "        Nota Geral  Escolaridade Pai_0.0  Escolaridade Pai_1.0  \\\n",
       "160           24.9                     1                     0   \n",
       "161           25.6                     1                     0   \n",
       "162           48.7                     1                     0   \n",
       "163           35.7                     1                     0   \n",
       "164           33.9                     1                     0   \n",
       "...            ...                   ...                   ...   \n",
       "546659        40.9                     0                     1   \n",
       "547633        32.2                     1                     0   \n",
       "547634        27.8                     0                     1   \n",
       "547635        30.2                     1                     0   \n",
       "547636        34.2                     0                     1   \n",
       "\n",
       "        Escolaridade Mãe_0.0  Escolaridade Mãe_1.0  Tempo de Estudo_0.0  \\\n",
       "160                        1                     0                    0   \n",
       "161                        1                     0                    0   \n",
       "162                        1                     0                    0   \n",
       "163                        1                     0                    0   \n",
       "164                        1                     0                    0   \n",
       "...                      ...                   ...                  ...   \n",
       "546659                     0                     1                    0   \n",
       "547633                     0                     1                    0   \n",
       "547634                     1                     0                    0   \n",
       "547635                     1                     0                    0   \n",
       "547636                     0                     1                    0   \n",
       "\n",
       "        Tempo de Estudo_1.0  Tempo de Estudo_2.0  Tempo de Estudo_3.0  \\\n",
       "160                       0                    1                    0   \n",
       "161                       1                    0                    0   \n",
       "162                       0                    1                    0   \n",
       "163                       1                    0                    0   \n",
       "164                       0                    1                    0   \n",
       "...                     ...                  ...                  ...   \n",
       "546659                    1                    0                    0   \n",
       "547633                    1                    0                    0   \n",
       "547634                    0                    0                    1   \n",
       "547635                    1                    0                    0   \n",
       "547636                    1                    0                    0   \n",
       "\n",
       "        Tempo de Estudo_4.0  Horas de Trabalho_0.0  Horas de Trabalho_1.0  \\\n",
       "160                       0                      0                      0   \n",
       "161                       0                      0                      0   \n",
       "162                       0                      0                      0   \n",
       "163                       0                      0                      0   \n",
       "164                       0                      0                      0   \n",
       "...                     ...                    ...                    ...   \n",
       "546659                    0                      0                      0   \n",
       "547633                    0                      1                      0   \n",
       "547634                    0                      0                      0   \n",
       "547635                    0                      0                      0   \n",
       "547636                    0                      1                      0   \n",
       "\n",
       "        Horas de Trabalho_2.0  Horas de Trabalho_3.0  Horas de Trabalho_4.0  \\\n",
       "160                         0                      0                      1   \n",
       "161                         0                      0                      1   \n",
       "162                         0                      0                      1   \n",
       "163                         0                      0                      1   \n",
       "164                         0                      0                      1   \n",
       "...                       ...                    ...                    ...   \n",
       "546659                      0                      0                      1   \n",
       "547633                      0                      0                      0   \n",
       "547634                      1                      0                      0   \n",
       "547635                      0                      1                      0   \n",
       "547636                      0                      0                      0   \n",
       "\n",
       "        Ensino Médio_0.0  Ensino Médio_1.0  \n",
       "160                    1                 0  \n",
       "161                    1                 0  \n",
       "162                    1                 0  \n",
       "163                    1                 0  \n",
       "164                    0                 1  \n",
       "...                  ...               ...  \n",
       "546659                 1                 0  \n",
       "547633                 0                 1  \n",
       "547634                 1                 0  \n",
       "547635                 1                 0  \n",
       "547636                 1                 0  \n",
       "\n",
       "[8073 rows x 17 columns]"
      ]
     },
     "execution_count": 13,
     "metadata": {},
     "output_type": "execute_result"
    }
   ],
   "source": [
    "dummies"
   ]
  },
  {
   "cell_type": "markdown",
   "metadata": {},
   "source": [
    "## Análise Exploratória"
   ]
  },
  {
   "cell_type": "code",
   "execution_count": 14,
   "metadata": {},
   "outputs": [
    {
     "name": "stdout",
     "output_type": "stream",
     "text": [
      "Número de alunos presente na base: 548127 (total no ano)\n",
      "Número de variáveis presente na base: 137\n"
     ]
    }
   ],
   "source": [
    "print(f'Número de alunos presente na base: {enade.shape[0]} (total no ano)') #número de candidatos\n",
    "print(f'Número de variáveis presente na base: {enade.shape[1]}') #número de variáveis"
   ]
  },
  {
   "cell_type": "markdown",
   "metadata": {},
   "source": [
    "### Quantidade de Alunos por Curso"
   ]
  },
  {
   "cell_type": "code",
   "execution_count": 15,
   "metadata": {},
   "outputs": [],
   "source": [
    "dict_cursos = {\n",
    "    1:\"ADMINISTRAÇÃO\",\n",
    "    2:\"DIREITO\",\n",
    "    13:\"CIÊNCIAS ECONÔMICAS\",\n",
    "    18:\"PSICOLOGIA\",\n",
    "    22:\"CIÊNCIAS CONTÁBEIS\",\n",
    "    26:\"DESIGN\",\n",
    "    29:\"TURISMO\",\n",
    "    38:\"SERVIÇO SOCIAL\",\n",
    "    67:\"SECRETARIADO EXECUTIVO\",\n",
    "    81:\"RELAÇÕES INTERNACIONAIS\",\n",
    "    83:\"TECNOLOGIA EM DESIGN DE MODA\",\n",
    "    84:\"TECNOLOGIA EM MARKETING\",\n",
    "    85:\"TECNOLOGIA EM PROCESSOS GERENCIAIS\",\n",
    "    86:\"TECNOLOGIA EM GESTÃO DE RECURSOS HUMANOS\",\n",
    "    87:\"TECNOLOGIA EM GESTÃO FINANCEIRA\",\n",
    "    88:\"TECNOLOGIA EM GASTRONOMIA\",\n",
    "    93:\"TECNOLOGIA EM GESTÃO COMERCIAL\",\n",
    "    94:\"TECNOLOGIA EM LOGÍSTICA\",\n",
    "    100:\"ADMINISTRAÇÃO PÚBLICA\",\n",
    "    101:\"TEOLOGIA\",\n",
    "    102:\"TECNOLOGIA EM COMÉRCIO EXTERIOR\",\n",
    "    103:\"TECNOLOGIA EM DESIGN DE INTERIORES\",\n",
    "    104:\"TECNOLOGIA EM DESIGN GRÁFICO\",\n",
    "    105:\"TECNOLOGIA EM GESTÃO DA QUALIDADE\",\n",
    "    106:\"TECNOLOGIA EM GESTÃO PÚBLICA\",\n",
    "    803:\"COMUNICAÇÃO SOCIAL - JORNALISMO\",\n",
    "    804:\"COMUNICAÇÃO SOCIAL - PUBLICIDADE E PROPAGANDA\"\n",
    "}"
   ]
  },
  {
   "cell_type": "code",
   "execution_count": 16,
   "metadata": {},
   "outputs": [],
   "source": [
    "enade_cursos = enade[['CO_GRUPO','NT_GER']]"
   ]
  },
  {
   "cell_type": "code",
   "execution_count": 17,
   "metadata": {},
   "outputs": [
    {
     "name": "stderr",
     "output_type": "stream",
     "text": [
      "/tmp/ipykernel_16467/560201245.py:1: SettingWithCopyWarning: \n",
      "A value is trying to be set on a copy of a slice from a DataFrame.\n",
      "Try using .loc[row_indexer,col_indexer] = value instead\n",
      "\n",
      "See the caveats in the documentation: https://pandas.pydata.org/pandas-docs/stable/user_guide/indexing.html#returning-a-view-versus-a-copy\n",
      "  enade_cursos['CO_GRUPO'] = enade_cursos['CO_GRUPO'].map(dict_cursos)\n"
     ]
    }
   ],
   "source": [
    "enade_cursos['CO_GRUPO'] = enade_cursos['CO_GRUPO'].map(dict_cursos)"
   ]
  },
  {
   "cell_type": "code",
   "execution_count": 18,
   "metadata": {},
   "outputs": [
    {
     "data": {
      "text/plain": [
       "DIREITO                                          145425\n",
       "ADMINISTRAÇÃO                                    120405\n",
       "CIÊNCIAS CONTÁBEIS                                62475\n",
       "PSICOLOGIA                                        40450\n",
       "SERVIÇO SOCIAL                                    24625\n",
       "TECNOLOGIA EM GESTÃO DE RECURSOS HUMANOS          24161\n",
       "COMUNICAÇÃO SOCIAL - PUBLICIDADE E PROPAGANDA     17266\n",
       "TECNOLOGIA EM LOGÍSTICA                           12676\n",
       "COMUNICAÇÃO SOCIAL - JORNALISMO                   11447\n",
       "TECNOLOGIA EM PROCESSOS GERENCIAIS                10893\n",
       "CIÊNCIAS ECONÔMICAS                                9582\n",
       "TECNOLOGIA EM MARKETING                            7141\n",
       "DESIGN                                             6952\n",
       "TECNOLOGIA EM GESTÃO FINANCEIRA                    6454\n",
       "TECNOLOGIA EM GESTÃO COMERCIAL                     6130\n",
       "RELAÇÕES INTERNACIONAIS                            5786\n",
       "TECNOLOGIA EM GASTRONOMIA                          5707\n",
       "TECNOLOGIA EM GESTÃO PÚBLICA                       5052\n",
       "TEOLOGIA                                           4724\n",
       "ADMINISTRAÇÃO PÚBLICA                              4306\n",
       "TECNOLOGIA EM DESIGN GRÁFICO                       3329\n",
       "TURISMO                                            3328\n",
       "TECNOLOGIA EM COMÉRCIO EXTERIOR                    2638\n",
       "TECNOLOGIA EM DESIGN DE INTERIORES                 2629\n",
       "TECNOLOGIA EM DESIGN DE MODA                       1694\n",
       "TECNOLOGIA EM GESTÃO DA QUALIDADE                  1538\n",
       "SECRETARIADO EXECUTIVO                             1314\n",
       "Name: CO_GRUPO, dtype: int64"
      ]
     },
     "execution_count": 18,
     "metadata": {},
     "output_type": "execute_result"
    }
   ],
   "source": [
    "enade_cursos['CO_GRUPO'].value_counts() #total de alunos por curso"
   ]
  },
  {
   "cell_type": "code",
   "execution_count": 19,
   "metadata": {},
   "outputs": [],
   "source": [
    "alunos_presentes = enade[['CO_GRUPO','NT_GER']].dropna()"
   ]
  },
  {
   "cell_type": "code",
   "execution_count": 20,
   "metadata": {},
   "outputs": [],
   "source": [
    "alunos_presentes['CO_GRUPO'] = alunos_presentes['CO_GRUPO'].map(dict_cursos)"
   ]
  },
  {
   "cell_type": "code",
   "execution_count": 21,
   "metadata": {},
   "outputs": [
    {
     "name": "stdout",
     "output_type": "stream",
     "text": [
      "Total de alunos que realizaram a prova: 462232\n"
     ]
    }
   ],
   "source": [
    "print(f'Total de alunos que realizaram a prova: {alunos_presentes.shape[0]}')"
   ]
  },
  {
   "cell_type": "code",
   "execution_count": 22,
   "metadata": {},
   "outputs": [
    {
     "data": {
      "text/plain": [
       "DIREITO                                          127423\n",
       "ADMINISTRAÇÃO                                     99635\n",
       "CIÊNCIAS CONTÁBEIS                                52856\n",
       "PSICOLOGIA                                        37580\n",
       "SERVIÇO SOCIAL                                    21390\n",
       "TECNOLOGIA EM GESTÃO DE RECURSOS HUMANOS          18816\n",
       "COMUNICAÇÃO SOCIAL - PUBLICIDADE E PROPAGANDA     13982\n",
       "COMUNICAÇÃO SOCIAL - JORNALISMO                    9793\n",
       "TECNOLOGIA EM LOGÍSTICA                            9777\n",
       "TECNOLOGIA EM PROCESSOS GERENCIAIS                 8551\n",
       "CIÊNCIAS ECONÔMICAS                                8073\n",
       "DESIGN                                             5793\n",
       "TECNOLOGIA EM MARKETING                            5226\n",
       "TECNOLOGIA EM GESTÃO FINANCEIRA                    4990\n",
       "RELAÇÕES INTERNACIONAIS                            4905\n",
       "TECNOLOGIA EM GESTÃO COMERCIAL                     4709\n",
       "TECNOLOGIA EM GASTRONOMIA                          4592\n",
       "TECNOLOGIA EM GESTÃO PÚBLICA                       3853\n",
       "TEOLOGIA                                           3777\n",
       "ADMINISTRAÇÃO PÚBLICA                              3479\n",
       "TURISMO                                            2696\n",
       "TECNOLOGIA EM DESIGN GRÁFICO                       2590\n",
       "TECNOLOGIA EM DESIGN DE INTERIORES                 2129\n",
       "TECNOLOGIA EM COMÉRCIO EXTERIOR                    1866\n",
       "TECNOLOGIA EM DESIGN DE MODA                       1379\n",
       "TECNOLOGIA EM GESTÃO DA QUALIDADE                  1275\n",
       "SECRETARIADO EXECUTIVO                             1097\n",
       "Name: CO_GRUPO, dtype: int64"
      ]
     },
     "execution_count": 22,
     "metadata": {},
     "output_type": "execute_result"
    }
   ],
   "source": [
    "alunos_presentes['CO_GRUPO'].value_counts() #total de alunos que realizaram a prova por curso"
   ]
  },
  {
   "cell_type": "code",
   "execution_count": 23,
   "metadata": {},
   "outputs": [
    {
     "data": {
      "text/plain": [
       "Index(['DIREITO', 'ADMINISTRAÇÃO', 'CIÊNCIAS CONTÁBEIS', 'PSICOLOGIA',\n",
       "       'SERVIÇO SOCIAL', 'TECNOLOGIA EM GESTÃO DE RECURSOS HUMANOS',\n",
       "       'COMUNICAÇÃO SOCIAL - PUBLICIDADE E PROPAGANDA',\n",
       "       'COMUNICAÇÃO SOCIAL - JORNALISMO', 'TECNOLOGIA EM LOGÍSTICA',\n",
       "       'TECNOLOGIA EM PROCESSOS GERENCIAIS', 'CIÊNCIAS ECONÔMICAS', 'DESIGN',\n",
       "       'TECNOLOGIA EM MARKETING', 'TECNOLOGIA EM GESTÃO FINANCEIRA',\n",
       "       'RELAÇÕES INTERNACIONAIS', 'TECNOLOGIA EM GESTÃO COMERCIAL',\n",
       "       'TECNOLOGIA EM GASTRONOMIA', 'TECNOLOGIA EM GESTÃO PÚBLICA', 'TEOLOGIA',\n",
       "       'ADMINISTRAÇÃO PÚBLICA', 'TURISMO', 'TECNOLOGIA EM DESIGN GRÁFICO',\n",
       "       'TECNOLOGIA EM DESIGN DE INTERIORES', 'TECNOLOGIA EM COMÉRCIO EXTERIOR',\n",
       "       'TECNOLOGIA EM DESIGN DE MODA', 'TECNOLOGIA EM GESTÃO DA QUALIDADE',\n",
       "       'SECRETARIADO EXECUTIVO'],\n",
       "      dtype='object')"
      ]
     },
     "execution_count": 23,
     "metadata": {},
     "output_type": "execute_result"
    }
   ],
   "source": [
    "alunos_presentes['CO_GRUPO'].value_counts().index"
   ]
  },
  {
   "cell_type": "code",
   "execution_count": 24,
   "metadata": {},
   "outputs": [],
   "source": [
    "perc_cursos = pd.DataFrame({'Percentual':round((alunos_presentes['CO_GRUPO'].value_counts() / enade_cursos['CO_GRUPO'].value_counts())*100,2)})"
   ]
  },
  {
   "cell_type": "code",
   "execution_count": 25,
   "metadata": {},
   "outputs": [
    {
     "data": {
      "text/html": [
       "<div>\n",
       "<style scoped>\n",
       "    .dataframe tbody tr th:only-of-type {\n",
       "        vertical-align: middle;\n",
       "    }\n",
       "\n",
       "    .dataframe tbody tr th {\n",
       "        vertical-align: top;\n",
       "    }\n",
       "\n",
       "    .dataframe thead th {\n",
       "        text-align: right;\n",
       "    }\n",
       "</style>\n",
       "<table border=\"1\" class=\"dataframe\">\n",
       "  <thead>\n",
       "    <tr style=\"text-align: right;\">\n",
       "      <th></th>\n",
       "      <th>Percentual</th>\n",
       "    </tr>\n",
       "  </thead>\n",
       "  <tbody>\n",
       "    <tr>\n",
       "      <th>PSICOLOGIA</th>\n",
       "      <td>92.90</td>\n",
       "    </tr>\n",
       "    <tr>\n",
       "      <th>DIREITO</th>\n",
       "      <td>87.62</td>\n",
       "    </tr>\n",
       "    <tr>\n",
       "      <th>SERVIÇO SOCIAL</th>\n",
       "      <td>86.86</td>\n",
       "    </tr>\n",
       "    <tr>\n",
       "      <th>COMUNICAÇÃO SOCIAL - JORNALISMO</th>\n",
       "      <td>85.55</td>\n",
       "    </tr>\n",
       "    <tr>\n",
       "      <th>RELAÇÕES INTERNACIONAIS</th>\n",
       "      <td>84.77</td>\n",
       "    </tr>\n",
       "    <tr>\n",
       "      <th>CIÊNCIAS CONTÁBEIS</th>\n",
       "      <td>84.60</td>\n",
       "    </tr>\n",
       "    <tr>\n",
       "      <th>CIÊNCIAS ECONÔMICAS</th>\n",
       "      <td>84.25</td>\n",
       "    </tr>\n",
       "    <tr>\n",
       "      <th>SECRETARIADO EXECUTIVO</th>\n",
       "      <td>83.49</td>\n",
       "    </tr>\n",
       "    <tr>\n",
       "      <th>DESIGN</th>\n",
       "      <td>83.33</td>\n",
       "    </tr>\n",
       "    <tr>\n",
       "      <th>TECNOLOGIA EM GESTÃO DA QUALIDADE</th>\n",
       "      <td>82.90</td>\n",
       "    </tr>\n",
       "    <tr>\n",
       "      <th>ADMINISTRAÇÃO</th>\n",
       "      <td>82.75</td>\n",
       "    </tr>\n",
       "    <tr>\n",
       "      <th>TECNOLOGIA EM DESIGN DE MODA</th>\n",
       "      <td>81.40</td>\n",
       "    </tr>\n",
       "    <tr>\n",
       "      <th>TURISMO</th>\n",
       "      <td>81.01</td>\n",
       "    </tr>\n",
       "    <tr>\n",
       "      <th>COMUNICAÇÃO SOCIAL - PUBLICIDADE E PROPAGANDA</th>\n",
       "      <td>80.98</td>\n",
       "    </tr>\n",
       "    <tr>\n",
       "      <th>TECNOLOGIA EM DESIGN DE INTERIORES</th>\n",
       "      <td>80.98</td>\n",
       "    </tr>\n",
       "    <tr>\n",
       "      <th>ADMINISTRAÇÃO PÚBLICA</th>\n",
       "      <td>80.79</td>\n",
       "    </tr>\n",
       "    <tr>\n",
       "      <th>TECNOLOGIA EM GASTRONOMIA</th>\n",
       "      <td>80.46</td>\n",
       "    </tr>\n",
       "    <tr>\n",
       "      <th>TEOLOGIA</th>\n",
       "      <td>79.95</td>\n",
       "    </tr>\n",
       "    <tr>\n",
       "      <th>TECNOLOGIA EM PROCESSOS GERENCIAIS</th>\n",
       "      <td>78.50</td>\n",
       "    </tr>\n",
       "    <tr>\n",
       "      <th>TECNOLOGIA EM GESTÃO DE RECURSOS HUMANOS</th>\n",
       "      <td>77.88</td>\n",
       "    </tr>\n",
       "    <tr>\n",
       "      <th>TECNOLOGIA EM DESIGN GRÁFICO</th>\n",
       "      <td>77.80</td>\n",
       "    </tr>\n",
       "    <tr>\n",
       "      <th>TECNOLOGIA EM GESTÃO FINANCEIRA</th>\n",
       "      <td>77.32</td>\n",
       "    </tr>\n",
       "    <tr>\n",
       "      <th>TECNOLOGIA EM LOGÍSTICA</th>\n",
       "      <td>77.13</td>\n",
       "    </tr>\n",
       "    <tr>\n",
       "      <th>TECNOLOGIA EM GESTÃO COMERCIAL</th>\n",
       "      <td>76.82</td>\n",
       "    </tr>\n",
       "    <tr>\n",
       "      <th>TECNOLOGIA EM GESTÃO PÚBLICA</th>\n",
       "      <td>76.27</td>\n",
       "    </tr>\n",
       "    <tr>\n",
       "      <th>TECNOLOGIA EM MARKETING</th>\n",
       "      <td>73.18</td>\n",
       "    </tr>\n",
       "    <tr>\n",
       "      <th>TECNOLOGIA EM COMÉRCIO EXTERIOR</th>\n",
       "      <td>70.74</td>\n",
       "    </tr>\n",
       "  </tbody>\n",
       "</table>\n",
       "</div>"
      ],
      "text/plain": [
       "                                               Percentual\n",
       "PSICOLOGIA                                          92.90\n",
       "DIREITO                                             87.62\n",
       "SERVIÇO SOCIAL                                      86.86\n",
       "COMUNICAÇÃO SOCIAL - JORNALISMO                     85.55\n",
       "RELAÇÕES INTERNACIONAIS                             84.77\n",
       "CIÊNCIAS CONTÁBEIS                                  84.60\n",
       "CIÊNCIAS ECONÔMICAS                                 84.25\n",
       "SECRETARIADO EXECUTIVO                              83.49\n",
       "DESIGN                                              83.33\n",
       "TECNOLOGIA EM GESTÃO DA QUALIDADE                   82.90\n",
       "ADMINISTRAÇÃO                                       82.75\n",
       "TECNOLOGIA EM DESIGN DE MODA                        81.40\n",
       "TURISMO                                             81.01\n",
       "COMUNICAÇÃO SOCIAL - PUBLICIDADE E PROPAGANDA       80.98\n",
       "TECNOLOGIA EM DESIGN DE INTERIORES                  80.98\n",
       "ADMINISTRAÇÃO PÚBLICA                               80.79\n",
       "TECNOLOGIA EM GASTRONOMIA                           80.46\n",
       "TEOLOGIA                                            79.95\n",
       "TECNOLOGIA EM PROCESSOS GERENCIAIS                  78.50\n",
       "TECNOLOGIA EM GESTÃO DE RECURSOS HUMANOS            77.88\n",
       "TECNOLOGIA EM DESIGN GRÁFICO                        77.80\n",
       "TECNOLOGIA EM GESTÃO FINANCEIRA                     77.32\n",
       "TECNOLOGIA EM LOGÍSTICA                             77.13\n",
       "TECNOLOGIA EM GESTÃO COMERCIAL                      76.82\n",
       "TECNOLOGIA EM GESTÃO PÚBLICA                        76.27\n",
       "TECNOLOGIA EM MARKETING                             73.18\n",
       "TECNOLOGIA EM COMÉRCIO EXTERIOR                     70.74"
      ]
     },
     "execution_count": 25,
     "metadata": {},
     "output_type": "execute_result"
    }
   ],
   "source": [
    "perc_cursos.sort_values(by='Percentual', ascending=False) #percentual de alunos que realizaram a prova por curso"
   ]
  },
  {
   "cell_type": "markdown",
   "metadata": {},
   "source": [
    "### Quantidade Alunos por Categoria Ensino (Público x Privado)"
   ]
  },
  {
   "cell_type": "code",
   "execution_count": 26,
   "metadata": {},
   "outputs": [],
   "source": [
    "categad_aluno = enade[['CO_CATEGAD','NT_GER', 'CO_GRUPO']]"
   ]
  },
  {
   "cell_type": "code",
   "execution_count": 27,
   "metadata": {},
   "outputs": [],
   "source": [
    "dict_categad = {\n",
    "    118:\"Privada\",\n",
    "    120:\"Privada\",\n",
    "    121:\"Privada\",\n",
    "    10005:\"Privada\",\n",
    "    10006:\"Privada\",\n",
    "    10007:\"Privada\",\n",
    "    10008:\"Privada\",\n",
    "    10009:\"Privada\",\n",
    "    17634:\"Pública\",\n",
    "    93:\"Pública\",\n",
    "    115:\"Pública\",\n",
    "    116:\"Pública\",\n",
    "    10001:\"Pública\",\n",
    "    10002:\"Pública\",\n",
    "    10003:\"Pública\"\n",
    "}"
   ]
  },
  {
   "cell_type": "code",
   "execution_count": 28,
   "metadata": {},
   "outputs": [
    {
     "name": "stderr",
     "output_type": "stream",
     "text": [
      "/tmp/ipykernel_16467/1215756366.py:1: SettingWithCopyWarning: \n",
      "A value is trying to be set on a copy of a slice from a DataFrame.\n",
      "Try using .loc[row_indexer,col_indexer] = value instead\n",
      "\n",
      "See the caveats in the documentation: https://pandas.pydata.org/pandas-docs/stable/user_guide/indexing.html#returning-a-view-versus-a-copy\n",
      "  categad_aluno['CO_CATEGAD'] = categad_aluno['CO_CATEGAD'].map(dict_categad)\n"
     ]
    }
   ],
   "source": [
    "categad_aluno['CO_CATEGAD'] = categad_aluno['CO_CATEGAD'].map(dict_categad)"
   ]
  },
  {
   "cell_type": "code",
   "execution_count": 29,
   "metadata": {},
   "outputs": [
    {
     "data": {
      "text/html": [
       "<div>\n",
       "<style scoped>\n",
       "    .dataframe tbody tr th:only-of-type {\n",
       "        vertical-align: middle;\n",
       "    }\n",
       "\n",
       "    .dataframe tbody tr th {\n",
       "        vertical-align: top;\n",
       "    }\n",
       "\n",
       "    .dataframe thead th {\n",
       "        text-align: right;\n",
       "    }\n",
       "</style>\n",
       "<table border=\"1\" class=\"dataframe\">\n",
       "  <thead>\n",
       "    <tr style=\"text-align: right;\">\n",
       "      <th></th>\n",
       "      <th>Total</th>\n",
       "      <th>Presente</th>\n",
       "      <th>Percentual</th>\n",
       "    </tr>\n",
       "  </thead>\n",
       "  <tbody>\n",
       "    <tr>\n",
       "      <th>Privada</th>\n",
       "      <td>465939</td>\n",
       "      <td>392287</td>\n",
       "      <td>84.19</td>\n",
       "    </tr>\n",
       "    <tr>\n",
       "      <th>Pública</th>\n",
       "      <td>82188</td>\n",
       "      <td>69945</td>\n",
       "      <td>85.10</td>\n",
       "    </tr>\n",
       "  </tbody>\n",
       "</table>\n",
       "</div>"
      ],
      "text/plain": [
       "          Total  Presente  Percentual\n",
       "Privada  465939    392287       84.19\n",
       "Pública   82188     69945       85.10"
      ]
     },
     "execution_count": 29,
     "metadata": {},
     "output_type": "execute_result"
    }
   ],
   "source": [
    "total_categad = pd.DataFrame(categad_aluno['CO_CATEGAD'].value_counts()) #total de alunos por categoria da instituição de ensino\n",
    "total_categad_presente = pd.DataFrame(categad_aluno.dropna()['CO_CATEGAD'].value_counts()) #total de alunos que realizaram a prova por categoria da instituição de ensino\n",
    "percentual_categad = pd.concat([total_categad, total_categad_presente], axis=1)\n",
    "percentual_categad.columns = ['Total','Presente']\n",
    "percentual_categad['Percentual'] = round((percentual_categad['Presente'] / percentual_categad['Total'])*100,2)\n",
    "percentual_categad"
   ]
  },
  {
   "cell_type": "code",
   "execution_count": 30,
   "metadata": {},
   "outputs": [
    {
     "data": {
      "text/html": [
       "<div>\n",
       "<style scoped>\n",
       "    .dataframe tbody tr th:only-of-type {\n",
       "        vertical-align: middle;\n",
       "    }\n",
       "\n",
       "    .dataframe tbody tr th {\n",
       "        vertical-align: top;\n",
       "    }\n",
       "\n",
       "    .dataframe thead th {\n",
       "        text-align: right;\n",
       "    }\n",
       "</style>\n",
       "<table border=\"1\" class=\"dataframe\">\n",
       "  <thead>\n",
       "    <tr style=\"text-align: right;\">\n",
       "      <th></th>\n",
       "      <th>Total</th>\n",
       "      <th>Presente</th>\n",
       "      <th>Percentual</th>\n",
       "    </tr>\n",
       "  </thead>\n",
       "  <tbody>\n",
       "    <tr>\n",
       "      <th>Pública</th>\n",
       "      <td>6181</td>\n",
       "      <td>5249</td>\n",
       "      <td>84.92</td>\n",
       "    </tr>\n",
       "    <tr>\n",
       "      <th>Privada</th>\n",
       "      <td>3401</td>\n",
       "      <td>2824</td>\n",
       "      <td>83.03</td>\n",
       "    </tr>\n",
       "  </tbody>\n",
       "</table>\n",
       "</div>"
      ],
      "text/plain": [
       "         Total  Presente  Percentual\n",
       "Pública   6181      5249       84.92\n",
       "Privada   3401      2824       83.03"
      ]
     },
     "execution_count": 30,
     "metadata": {},
     "output_type": "execute_result"
    }
   ],
   "source": [
    "total_categad = pd.DataFrame(categad_aluno[categad_aluno['CO_GRUPO']==13]['CO_CATEGAD'].value_counts()) #total de alunos por categoria da instituição de ensino\n",
    "total_categad_presente = pd.DataFrame(categad_aluno[categad_aluno['CO_GRUPO']==13].dropna()['CO_CATEGAD'].value_counts()) #total de alunos que realizaram a prova por categoria da instituição de ensino\n",
    "percentual_categad = pd.concat([total_categad, total_categad_presente], axis=1)\n",
    "percentual_categad.columns = ['Total','Presente']\n",
    "percentual_categad['Percentual'] = round((percentual_categad['Presente'] / percentual_categad['Total'])*100,2)\n",
    "percentual_categad"
   ]
  },
  {
   "cell_type": "code",
   "execution_count": 31,
   "metadata": {},
   "outputs": [
    {
     "data": {
      "text/plain": [
       "Pública    6181\n",
       "Privada    3401\n",
       "Name: CO_CATEGAD, dtype: int64"
      ]
     },
     "execution_count": 31,
     "metadata": {},
     "output_type": "execute_result"
    }
   ],
   "source": [
    "categad_aluno[categad_aluno['CO_GRUPO']==13]['CO_CATEGAD'].value_counts() #total de alunos por categoria da instituição de ensino"
   ]
  },
  {
   "cell_type": "code",
   "execution_count": null,
   "metadata": {},
   "outputs": [],
   "source": []
  },
  {
   "cell_type": "code",
   "execution_count": 32,
   "metadata": {},
   "outputs": [
    {
     "ename": "NameError",
     "evalue": "name 'categad_economia' is not defined",
     "output_type": "error",
     "traceback": [
      "\u001b[0;31m---------------------------------------------------------------------------\u001b[0m",
      "\u001b[0;31mNameError\u001b[0m                                 Traceback (most recent call last)",
      "\u001b[1;32m/home/matheus/Econometria/1º Relatório - Heterocedasticidade/1º Relatório - Heterocedasticidade.ipynb Cell 39'\u001b[0m in \u001b[0;36m<cell line: 1>\u001b[0;34m()\u001b[0m\n\u001b[0;32m----> <a href='vscode-notebook-cell:/home/matheus/Econometria/1%C2%BA%20Relat%C3%B3rio%20-%20Heterocedasticidade/1%C2%BA%20Relat%C3%B3rio%20-%20Heterocedasticidade.ipynb#ch0000038?line=0'>1</a>\u001b[0m categad_economia\n",
      "\u001b[0;31mNameError\u001b[0m: name 'categad_economia' is not defined"
     ]
    }
   ],
   "source": [
    "categad_economia"
   ]
  },
  {
   "cell_type": "code",
   "execution_count": null,
   "metadata": {},
   "outputs": [
    {
     "data": {
      "text/plain": [
       "Pública    122\n",
       "Name: CO_CATEGAD, dtype: int64"
      ]
     },
     "execution_count": 76,
     "metadata": {},
     "output_type": "execute_result"
    }
   ],
   "source": [
    "categad_aluno[categad_aluno['CO_CURSO']==13]['CO_CATEGAD'].value_counts()"
   ]
  },
  {
   "cell_type": "markdown",
   "metadata": {},
   "source": [
    "## Matriz Correlação"
   ]
  },
  {
   "cell_type": "code",
   "execution_count": null,
   "metadata": {},
   "outputs": [],
   "source": [
    "economia_cor = economia_var.corr()"
   ]
  },
  {
   "cell_type": "code",
   "execution_count": null,
   "metadata": {},
   "outputs": [
    {
     "data": {
      "image/png": "[encoded data removed]",
      "text/plain": [
       "<Figure size 1080x720 with 2 Axes>"
      ]
     },
     "metadata": {
      "needs_background": "light"
     },
     "output_type": "display_data"
    }
   ],
   "source": [
    "plt.figure(figsize=(15,10))\n",
    "sns.heatmap(economia_cor, annot = True, cmap= \"RdYlGn\");\n",
    "plt.title('Correlação de Pearson',size=15);"
   ]
  },
  {
   "cell_type": "code",
   "execution_count": null,
   "metadata": {},
   "outputs": [],
   "source": [
    "economia_var.dropna(inplace=True)"
   ]
  },
  {
   "cell_type": "markdown",
   "metadata": {},
   "source": [
    "## Regressões"
   ]
  },
  {
   "cell_type": "code",
   "execution_count": null,
   "metadata": {},
   "outputs": [
    {
     "data": {
      "text/plain": [
       "Index(['Nota Geral', 'Escolaridade Pai_0.0', 'Escolaridade Pai_1.0',\n",
       "       'Escolaridade Mãe_0.0', 'Escolaridade Mãe_1.0', 'Tempo de Estudo_0.0',\n",
       "       'Tempo de Estudo_1.0', 'Tempo de Estudo_2.0', 'Tempo de Estudo_3.0',\n",
       "       'Tempo de Estudo_4.0', 'Horas de Trabalho_0.0', 'Horas de Trabalho_1.0',\n",
       "       'Horas de Trabalho_2.0', 'Horas de Trabalho_3.0',\n",
       "       'Horas de Trabalho_4.0', 'Ensino Médio_0.0', 'Ensino Médio_1.0'],\n",
       "      dtype='object')"
      ]
     },
     "execution_count": 17,
     "metadata": {},
     "output_type": "execute_result"
    }
   ],
   "source": [
    "dummies.columns"
   ]
  },
  {
   "cell_type": "markdown",
   "metadata": {},
   "source": [
    "## Regressão Mútipla"
   ]
  },
  {
   "cell_type": "markdown",
   "metadata": {},
   "source": [
    "### Regressão Múltipla com OLS"
   ]
  },
  {
   "cell_type": "code",
   "execution_count": 34,
   "metadata": {},
   "outputs": [
    {
     "name": "stdout",
     "output_type": "stream",
     "text": [
      "Intercept: \n",
      " 35.805243609325984\n",
      "Coefficients: \n",
      " [ 2.91853039  3.19820749 -0.50777371  1.07313683  3.17284552  4.43874181\n",
      " -1.08318903 -1.9146077  -1.76986864 -3.10078367  2.70467162]\n"
     ]
    },
    {
     "ename": "ValueError",
     "evalue": "endog must be in the unit interval.",
     "output_type": "error",
     "traceback": [
      "\u001b[0;31m---------------------------------------------------------------------------\u001b[0m",
      "\u001b[0;31mValueError\u001b[0m                                Traceback (most recent call last)",
      "\u001b[1;32m/home/matheus/Econometria/1º Relatório - Heterocedasticidade/1º Relatório - Heterocedasticidade.ipynb Cell 49'\u001b[0m in \u001b[0;36m<cell line: 16>\u001b[0;34m()\u001b[0m\n\u001b[1;32m     <a href='vscode-notebook-cell:/home/matheus/Econometria/1%C2%BA%20Relat%C3%B3rio%20-%20Heterocedasticidade/1%C2%BA%20Relat%C3%B3rio%20-%20Heterocedasticidade.ipynb#ch0000048?line=12'>13</a>\u001b[0m \u001b[39mprint\u001b[39m(\u001b[39m'\u001b[39m\u001b[39mIntercept: \u001b[39m\u001b[39m\\n\u001b[39;00m\u001b[39m'\u001b[39m, regr\u001b[39m.\u001b[39mintercept_)\n\u001b[1;32m     <a href='vscode-notebook-cell:/home/matheus/Econometria/1%C2%BA%20Relat%C3%B3rio%20-%20Heterocedasticidade/1%C2%BA%20Relat%C3%B3rio%20-%20Heterocedasticidade.ipynb#ch0000048?line=13'>14</a>\u001b[0m \u001b[39mprint\u001b[39m(\u001b[39m'\u001b[39m\u001b[39mCoefficients: \u001b[39m\u001b[39m\\n\u001b[39;00m\u001b[39m'\u001b[39m, regr\u001b[39m.\u001b[39mcoef_)\n\u001b[0;32m---> <a href='vscode-notebook-cell:/home/matheus/Econometria/1%C2%BA%20Relat%C3%B3rio%20-%20Heterocedasticidade/1%C2%BA%20Relat%C3%B3rio%20-%20Heterocedasticidade.ipynb#ch0000048?line=15'>16</a>\u001b[0m model_OLS \u001b[39m=\u001b[39m (sm\u001b[39m.\u001b[39;49mLogit(Y,sm\u001b[39m.\u001b[39;49madd_constant(X))\u001b[39m.\u001b[39mfit())\n\u001b[1;32m     <a href='vscode-notebook-cell:/home/matheus/Econometria/1%C2%BA%20Relat%C3%B3rio%20-%20Heterocedasticidade/1%C2%BA%20Relat%C3%B3rio%20-%20Heterocedasticidade.ipynb#ch0000048?line=16'>17</a>\u001b[0m \u001b[39m#predictions = model.predict(X) \u001b[39;00m\n\u001b[1;32m     <a href='vscode-notebook-cell:/home/matheus/Econometria/1%C2%BA%20Relat%C3%B3rio%20-%20Heterocedasticidade/1%C2%BA%20Relat%C3%B3rio%20-%20Heterocedasticidade.ipynb#ch0000048?line=18'>19</a>\u001b[0m print_model \u001b[39m=\u001b[39m model_OLS\u001b[39m.\u001b[39msummary()\n",
      "File \u001b[0;32m~/miniconda3/envs/econometria/lib/python3.9/site-packages/statsmodels/discrete/discrete_model.py:465\u001b[0m, in \u001b[0;36mBinaryModel.__init__\u001b[0;34m(self, endog, exog, check_rank, **kwargs)\u001b[0m\n\u001b[1;32m    463\u001b[0m \u001b[39mif\u001b[39;00m \u001b[39mnot\u001b[39;00m \u001b[39missubclass\u001b[39m(\u001b[39mself\u001b[39m\u001b[39m.\u001b[39m\u001b[39m__class__\u001b[39m, MultinomialModel):\n\u001b[1;32m    464\u001b[0m     \u001b[39mif\u001b[39;00m \u001b[39mnot\u001b[39;00m np\u001b[39m.\u001b[39mall((\u001b[39mself\u001b[39m\u001b[39m.\u001b[39mendog \u001b[39m>\u001b[39m\u001b[39m=\u001b[39m \u001b[39m0\u001b[39m) \u001b[39m&\u001b[39m (\u001b[39mself\u001b[39m\u001b[39m.\u001b[39mendog \u001b[39m<\u001b[39m\u001b[39m=\u001b[39m \u001b[39m1\u001b[39m)):\n\u001b[0;32m--> 465\u001b[0m         \u001b[39mraise\u001b[39;00m \u001b[39mValueError\u001b[39;00m(\u001b[39m\"\u001b[39m\u001b[39mendog must be in the unit interval.\u001b[39m\u001b[39m\"\u001b[39m)\n\u001b[1;32m    467\u001b[0m     \u001b[39mif\u001b[39;00m (\u001b[39mnot\u001b[39;00m \u001b[39mself\u001b[39m\u001b[39m.\u001b[39m_continuous_ok \u001b[39mand\u001b[39;00m\n\u001b[1;32m    468\u001b[0m             np\u001b[39m.\u001b[39many(\u001b[39mself\u001b[39m\u001b[39m.\u001b[39mendog \u001b[39m!=\u001b[39m np\u001b[39m.\u001b[39mround(\u001b[39mself\u001b[39m\u001b[39m.\u001b[39mendog))):\n\u001b[1;32m    469\u001b[0m         \u001b[39mraise\u001b[39;00m \u001b[39mValueError\u001b[39;00m(\u001b[39m\"\u001b[39m\u001b[39mendog must be binary, either 0 or 1\u001b[39m\u001b[39m\"\u001b[39m)\n",
      "\u001b[0;31mValueError\u001b[0m: endog must be in the unit interval."
     ]
    }
   ],
   "source": [
    "X = dummies[['Escolaridade Pai_1.0',\n",
    "       'Escolaridade Mãe_1.0',\n",
    "       'Tempo de Estudo_1.0', 'Tempo de Estudo_2.0', 'Tempo de Estudo_3.0',\n",
    "       'Tempo de Estudo_4.0', 'Horas de Trabalho_1.0',\n",
    "       'Horas de Trabalho_2.0', 'Horas de Trabalho_3.0',\n",
    "       'Horas de Trabalho_4.0', 'Ensino Médio_1.0']] \n",
    "Y = dummies['Nota Geral']\n",
    " \n",
    "# with sklearn\n",
    "regr = linear_model.LinearRegression()\n",
    "regr.fit(X, Y)\n",
    "\n",
    "print('Intercept: \\n', regr.intercept_)\n",
    "print('Coefficients: \\n', regr.coef_)\n",
    "\n",
    "model_OLS = (sm.Logit(Y,sm.add_constant(X)).fit())\n",
    "#predictions = model.predict(X) \n",
    " \n",
    "print_model = model_OLS.summary()\n",
    "print(print_model)"
   ]
  },
  {
   "cell_type": "markdown",
   "metadata": {},
   "source": [
    "### Regressão Múltipla com WLS"
   ]
  },
  {
   "cell_type": "code",
   "execution_count": null,
   "metadata": {},
   "outputs": [
    {
     "name": "stdout",
     "output_type": "stream",
     "text": [
      "Intercept: \n",
      " 35.805243609325984\n",
      "Coefficients: \n",
      " [ 2.91853039  3.19820749 -0.50777371  1.07313683  3.17284552  4.43874181\n",
      " -1.08318903 -1.9146077  -1.76986864 -3.10078367  2.70467162]\n",
      "                            WLS Regression Results                            \n",
      "==============================================================================\n",
      "Dep. Variable:             Nota Geral   R-squared:                       0.106\n",
      "Model:                            WLS   Adj. R-squared:                  0.105\n",
      "Method:                 Least Squares   F-statistic:                     86.84\n",
      "Date:                Fri, 24 Jun 2022   Prob (F-statistic):          1.25e-186\n",
      "Time:                        07:05:02   Log-Likelihood:                -33040.\n",
      "No. Observations:                8073   AIC:                         6.610e+04\n",
      "Df Residuals:                    8061   BIC:                         6.619e+04\n",
      "Df Model:                          11                                         \n",
      "Covariance Type:            nonrobust                                         \n",
      "=========================================================================================\n",
      "                            coef    std err          t      P>|t|      [0.025      0.975]\n",
      "-----------------------------------------------------------------------------------------\n",
      "const                    36.1742      0.483     74.841      0.000      35.227      37.122\n",
      "Escolaridade Pai_1.0      2.8742      0.363      7.923      0.000       2.163       3.585\n",
      "Escolaridade Mãe_1.0      3.5060      0.344     10.190      0.000       2.832       4.180\n",
      "Tempo de Estudo_1.0      -1.0346      0.518     -1.996      0.046      -2.051      -0.019\n",
      "Tempo de Estudo_2.0       0.5262      0.527      0.999      0.318      -0.507       1.559\n",
      "Tempo de Estudo_3.0       2.6853      0.615      4.366      0.000       1.480       3.891\n",
      "Tempo de Estudo_4.0       3.7101      0.644      5.763      0.000       2.448       4.972\n",
      "Horas de Trabalho_1.0    -1.3827      0.718     -1.926      0.054      -2.790       0.025\n",
      "Horas de Trabalho_2.0    -1.9549      0.713     -2.744      0.006      -3.352      -0.558\n",
      "Horas de Trabalho_3.0    -1.5985      0.425     -3.764      0.000      -2.431      -0.766\n",
      "Horas de Trabalho_4.0    -2.7673      0.323     -8.572      0.000      -3.400      -2.134\n",
      "Ensino Médio_1.0          2.9665      0.324      9.166      0.000       2.332       3.601\n",
      "==============================================================================\n",
      "Omnibus:                      196.981   Durbin-Watson:                   1.757\n",
      "Prob(Omnibus):                  0.000   Jarque-Bera (JB):              325.686\n",
      "Skew:                           0.225   Prob(JB):                     1.90e-71\n",
      "Kurtosis:                       3.875   Cond. No.                         11.0\n",
      "==============================================================================\n",
      "\n",
      "Notes:\n",
      "[1] Standard Errors assume that the covariance matrix of the errors is correctly specified.\n"
     ]
    }
   ],
   "source": [
    "regr = linear_model.LinearRegression()\n",
    "regr.fit(X, Y)\n",
    "\n",
    "print('Intercept: \\n', regr.intercept_)\n",
    "print('Coefficients: \\n', regr.coef_)\n",
    "\n",
    "model_WLS = (sm.WLS(Y,sm.add_constant(X), weights=list(range(1, len(Y)+1))).fit())\n",
    "#predictions = model.predict(X) \n",
    " \n",
    "print_model = model_WLS.summary()\n",
    "print(print_model)"
   ]
  },
  {
   "cell_type": "markdown",
   "metadata": {},
   "source": [
    "### Regressão Múltipla com GLS"
   ]
  },
  {
   "cell_type": "code",
   "execution_count": null,
   "metadata": {},
   "outputs": [],
   "source": [
    "y_reshape = np.array(Y).reshape(-1,1)\n",
    "x_reshape = np.array(X)"
   ]
  },
  {
   "cell_type": "code",
   "execution_count": null,
   "metadata": {},
   "outputs": [
    {
     "data": {
      "text/plain": [
       "8073"
      ]
     },
     "execution_count": 21,
     "metadata": {},
     "output_type": "execute_result"
    }
   ],
   "source": [
    "X.shape[0]"
   ]
  },
  {
   "cell_type": "code",
   "execution_count": null,
   "metadata": {},
   "outputs": [],
   "source": [
    "ols_resid =  (sm.OLS(y_reshape,x_reshape).fit().resid)\n",
    "res_fit = sm.OLS(ols_resid[1:], ols_resid[:-1]).fit()\n",
    "rho = res_fit.params\n",
    "\n",
    "from scipy.linalg import toeplitz\n",
    "order = toeplitz(np.arange(16))\n",
    "sigma = rho**order"
   ]
  },
  {
   "cell_type": "code",
   "execution_count": null,
   "metadata": {},
   "outputs": [],
   "source": [
    "#GLS Regression fitting\n",
    "resid=sm.OLS(np.log(list(model_OLS.resid**2)),X).fit()\n",
    "sigma=np.zeros((X.shape[0],X.shape[0]))\n",
    "##we estimate the sigma matrix to weight our regression model.\n",
    "##this process is a feasible way to alleviate the heteroscedastic problem.\n",
    "np.fill_diagonal(sigma,1/(np.exp(resid.predict(X))**0.5))\n"
   ]
  },
  {
   "cell_type": "code",
   "execution_count": null,
   "metadata": {},
   "outputs": [
    {
     "name": "stdout",
     "output_type": "stream",
     "text": [
      "Intercept: \n",
      " 35.805243609325984\n",
      "Coefficients: \n",
      " [ 2.91853039  3.19820749 -0.50777371  1.07313683  3.17284552  4.43874181\n",
      " -1.08318903 -1.9146077  -1.76986864 -3.10078367  2.70467162]\n",
      "                            GLS Regression Results                            \n",
      "==============================================================================\n",
      "Dep. Variable:             Nota Geral   R-squared:                       0.112\n",
      "Model:                            GLS   Adj. R-squared:                  0.111\n",
      "Method:                 Least Squares   F-statistic:                     92.27\n",
      "Date:                Fri, 24 Jun 2022   Prob (F-statistic):          4.48e-198\n",
      "Time:                        07:05:39   Log-Likelihood:                -32295.\n",
      "No. Observations:                8073   AIC:                         6.461e+04\n",
      "Df Residuals:                    8061   BIC:                         6.470e+04\n",
      "Df Model:                          11                                         \n",
      "Covariance Type:            nonrobust                                         \n",
      "=========================================================================================\n",
      "                            coef    std err          t      P>|t|      [0.025      0.975]\n",
      "-----------------------------------------------------------------------------------------\n",
      "const                    35.4360      1.050     33.748      0.000      33.378      37.494\n",
      "Escolaridade Pai_1.0      3.0203      0.349      8.658      0.000       2.336       3.704\n",
      "Escolaridade Mãe_1.0      3.1674      0.335      9.446      0.000       2.510       3.825\n",
      "Tempo de Estudo_1.0      -0.2190      1.059     -0.207      0.836      -2.295       1.857\n",
      "Tempo de Estudo_2.0       1.3701      1.064      1.288      0.198      -0.715       3.455\n",
      "Tempo de Estudo_3.0       3.6112      1.101      3.279      0.001       1.452       5.770\n",
      "Tempo de Estudo_4.0       4.7503      1.111      4.277      0.000       2.573       6.928\n",
      "Horas de Trabalho_1.0    -0.9174      0.697     -1.315      0.188      -2.285       0.450\n",
      "Horas de Trabalho_2.0    -1.8718      0.705     -2.655      0.008      -3.254      -0.490\n",
      "Horas de Trabalho_3.0    -1.8425      0.416     -4.424      0.000      -2.659      -1.026\n",
      "Horas de Trabalho_4.0    -3.0865      0.333     -9.271      0.000      -3.739      -2.434\n",
      "Ensino Médio_1.0          2.8003      0.323      8.661      0.000       2.166       3.434\n",
      "==============================================================================\n",
      "Omnibus:                       48.723   Durbin-Watson:                   1.749\n",
      "Prob(Omnibus):                  0.000   Jarque-Bera (JB):               53.271\n",
      "Skew:                           0.152   Prob(JB):                     2.71e-12\n",
      "Kurtosis:                       3.256   Cond. No.                         25.0\n",
      "==============================================================================\n",
      "\n",
      "Notes:\n",
      "[1] Standard Errors assume that the covariance matrix of the errors is correctly specified.\n"
     ]
    }
   ],
   "source": [
    "regr = linear_model.LinearRegression()\n",
    "regr.fit(X, Y)\n",
    "\n",
    "print('Intercept: \\n', regr.intercept_)\n",
    "print('Coefficients: \\n', regr.coef_)\n",
    "\n",
    "model_GLS = (sm.GLS(Y,sm.add_constant(X), sigma=sigma).fit())\n",
    "#predictions = model.predict(X) \n",
    " \n",
    "print_model = model_GLS.summary()\n",
    "print(print_model)"
   ]
  },
  {
   "cell_type": "markdown",
   "metadata": {},
   "source": [
    "## Testes de Heterocedasticidade"
   ]
  },
  {
   "cell_type": "markdown",
   "metadata": {},
   "source": [
    "### Teste Goldfeld"
   ]
  },
  {
   "cell_type": "markdown",
   "metadata": {},
   "source": [
    "#### OLS"
   ]
  },
  {
   "cell_type": "code",
   "execution_count": null,
   "metadata": {},
   "outputs": [
    {
     "data": {
      "text/plain": [
       "[('Estatística F', 0.9545660816719898),\n",
       " ('p-valor', 0.9298593359741754),\n",
       " ('Situação da variância', 'increasing')]"
      ]
     },
     "execution_count": 25,
     "metadata": {},
     "output_type": "execute_result"
    }
   ],
   "source": [
    "nomes = ['Estatística F','p-valor','Situação da variância']\n",
    "testeh = het_goldfeldquandt(model_OLS.resid, model_OLS.model.exog)\n",
    "lzip(nomes, testeh)"
   ]
  },
  {
   "cell_type": "markdown",
   "metadata": {},
   "source": [
    "#### WLS"
   ]
  },
  {
   "cell_type": "code",
   "execution_count": null,
   "metadata": {},
   "outputs": [
    {
     "data": {
      "text/plain": [
       "[('Estatística F', 0.9545660816719898),\n",
       " ('p-valor', 0.9298593359741754),\n",
       " ('Situação da variância', 'increasing')]"
      ]
     },
     "execution_count": 26,
     "metadata": {},
     "output_type": "execute_result"
    }
   ],
   "source": [
    "nomes = ['Estatística F','p-valor','Situação da variância']\n",
    "testeh = het_goldfeldquandt(model_WLS.resid, model_WLS.model.exog)\n",
    "lzip(nomes, testeh)"
   ]
  },
  {
   "cell_type": "markdown",
   "metadata": {},
   "source": [
    "#### GLS"
   ]
  },
  {
   "cell_type": "code",
   "execution_count": null,
   "metadata": {},
   "outputs": [
    {
     "data": {
      "text/plain": [
       "[('Estatística F', 0.9545660816719898),\n",
       " ('p-valor', 0.9298593359741754),\n",
       " ('Situação da variância', 'increasing')]"
      ]
     },
     "execution_count": 27,
     "metadata": {},
     "output_type": "execute_result"
    }
   ],
   "source": [
    "nomes = ['Estatística F','p-valor','Situação da variância']\n",
    "testeh = het_goldfeldquandt(model_GLS.resid, model_GLS.model.exog)\n",
    "lzip(nomes, testeh)"
   ]
  },
  {
   "cell_type": "markdown",
   "metadata": {},
   "source": [
    "## Teste Breusch Pagan"
   ]
  },
  {
   "cell_type": "markdown",
   "metadata": {},
   "source": [
    "#### OLS"
   ]
  },
  {
   "cell_type": "code",
   "execution_count": null,
   "metadata": {},
   "outputs": [
    {
     "name": "stdout",
     "output_type": "stream",
     "text": [
      "Estatística Multiplicador de Lagrange : 97.38995109956575\n",
      "p-valor : 5.861662024011792e-16\n",
      "Estatística F : 8.948422309336058\n",
      "f p-valor : 4.666796227773734e-16\n"
     ]
    }
   ],
   "source": [
    "nomes = ['Estatística Multiplicador de Lagrange','p-valor','Estatística F','f p-valor']\n",
    "for i,j in zip(nomes,het_breuschpagan(model_OLS.resid, model_OLS.model.exog)):\n",
    "    print(i,':',j)"
   ]
  },
  {
   "cell_type": "markdown",
   "metadata": {},
   "source": [
    "#### WLS"
   ]
  },
  {
   "cell_type": "code",
   "execution_count": null,
   "metadata": {},
   "outputs": [
    {
     "name": "stdout",
     "output_type": "stream",
     "text": [
      "Estatística Multiplicador de Lagrange : 99.44583506763789\n",
      "p-valor : 2.299036289019835e-16\n",
      "Estatística F : 9.13967780693884\n",
      "f p-valor : 1.8101121455246073e-16\n"
     ]
    }
   ],
   "source": [
    "nomes = ['Estatística Multiplicador de Lagrange','p-valor','Estatística F','f p-valor']\n",
    "for i,j in zip(nomes,het_breuschpagan(model_WLS.resid, model_WLS.model.exog)):\n",
    "    print(i,':',j)"
   ]
  },
  {
   "cell_type": "markdown",
   "metadata": {},
   "source": [
    "#### GLS"
   ]
  },
  {
   "cell_type": "code",
   "execution_count": null,
   "metadata": {},
   "outputs": [
    {
     "name": "stdout",
     "output_type": "stream",
     "text": [
      "Estatística Multiplicador de Lagrange : 96.58252410346498\n",
      "p-valor : 8.461235360798569e-16\n",
      "Estatística F : 8.873335670153958\n",
      "f p-valor : 6.765505771906758e-16\n"
     ]
    }
   ],
   "source": [
    "nomes = ['Estatística Multiplicador de Lagrange','p-valor','Estatística F','f p-valor']\n",
    "for i,j in zip(nomes,het_breuschpagan(model_GLS.resid, model_GLS.model.exog)):\n",
    "    print(i,':',j)"
   ]
  },
  {
   "cell_type": "markdown",
   "metadata": {},
   "source": [
    "## Teste White"
   ]
  },
  {
   "cell_type": "markdown",
   "metadata": {},
   "source": [
    "### OLS"
   ]
  },
  {
   "cell_type": "code",
   "execution_count": null,
   "metadata": {},
   "outputs": [
    {
     "name": "stdout",
     "output_type": "stream",
     "text": [
      "Estatística Multiplicador de Lagrange : 148.43946201243432\n",
      "p-valor : 9.493053430925869e-11\n",
      "Estatística F : 2.7812912936011855\n",
      "f p-valor : 7.196666568348416e-11\n"
     ]
    }
   ],
   "source": [
    "nomes = ['Estatística Multiplicador de Lagrange','p-valor','Estatística F','f p-valor']\n",
    "for i,j in zip(nomes,het_white(model_OLS.resid, model_OLS.model.exog)):\n",
    "    print(i,':',j)"
   ]
  },
  {
   "cell_type": "markdown",
   "metadata": {},
   "source": [
    "### WLS"
   ]
  },
  {
   "cell_type": "code",
   "execution_count": null,
   "metadata": {},
   "outputs": [
    {
     "name": "stdout",
     "output_type": "stream",
     "text": [
      "Estatística Multiplicador de Lagrange : 151.23948895718507\n",
      "p-valor : 3.769890260496205e-11\n",
      "Estatística F : 2.8347566614215713\n",
      "f p-valor : 2.810420847528279e-11\n"
     ]
    }
   ],
   "source": [
    "nomes = ['Estatística Multiplicador de Lagrange','p-valor','Estatística F','f p-valor']\n",
    "for i,j in zip(nomes,het_white(model_WLS.resid, model_WLS.model.exog)):\n",
    "    print(i,':',j)"
   ]
  },
  {
   "cell_type": "markdown",
   "metadata": {},
   "source": [
    "### GLS"
   ]
  },
  {
   "cell_type": "code",
   "execution_count": null,
   "metadata": {},
   "outputs": [
    {
     "name": "stdout",
     "output_type": "stream",
     "text": [
      "Estatística Multiplicador de Lagrange : 147.1247954860735\n",
      "p-valor : 1.460183251891306e-10\n",
      "Estatística F : 2.7562013068273994\n",
      "f p-valor : 1.1155199488092625e-10\n"
     ]
    }
   ],
   "source": [
    "nomes = ['Estatística Multiplicador de Lagrange','p-valor','Estatística F','f p-valor']\n",
    "for i,j in zip(nomes,het_white(model_GLS.resid, model_GLS.model.exog)):\n",
    "    print(i,':',j)"
   ]
  },
  {
   "cell_type": "markdown",
   "metadata": {},
   "source": [
    "## Gráficos"
   ]
  },
  {
   "cell_type": "code",
   "execution_count": null,
   "metadata": {},
   "outputs": [
    {
     "data": {
      "text/html": [
       "<div>\n",
       "<style scoped>\n",
       "    .dataframe tbody tr th:only-of-type {\n",
       "        vertical-align: middle;\n",
       "    }\n",
       "\n",
       "    .dataframe tbody tr th {\n",
       "        vertical-align: top;\n",
       "    }\n",
       "\n",
       "    .dataframe thead th {\n",
       "        text-align: right;\n",
       "    }\n",
       "</style>\n",
       "<table border=\"1\" class=\"dataframe\">\n",
       "  <thead>\n",
       "    <tr style=\"text-align: right;\">\n",
       "      <th></th>\n",
       "      <th>Nota Geral</th>\n",
       "      <th>Escolaridade Pai</th>\n",
       "      <th>Escolaridade Mãe</th>\n",
       "      <th>Horas de Trabalho</th>\n",
       "      <th>Ensino Médio</th>\n",
       "      <th>Tempo de Estudo</th>\n",
       "    </tr>\n",
       "  </thead>\n",
       "  <tbody>\n",
       "    <tr>\n",
       "      <th>160</th>\n",
       "      <td>24.9</td>\n",
       "      <td>0.0</td>\n",
       "      <td>0.0</td>\n",
       "      <td>4.0</td>\n",
       "      <td>0.0</td>\n",
       "      <td>2.0</td>\n",
       "    </tr>\n",
       "    <tr>\n",
       "      <th>161</th>\n",
       "      <td>25.6</td>\n",
       "      <td>0.0</td>\n",
       "      <td>0.0</td>\n",
       "      <td>4.0</td>\n",
       "      <td>0.0</td>\n",
       "      <td>1.0</td>\n",
       "    </tr>\n",
       "    <tr>\n",
       "      <th>162</th>\n",
       "      <td>48.7</td>\n",
       "      <td>0.0</td>\n",
       "      <td>0.0</td>\n",
       "      <td>4.0</td>\n",
       "      <td>0.0</td>\n",
       "      <td>2.0</td>\n",
       "    </tr>\n",
       "    <tr>\n",
       "      <th>163</th>\n",
       "      <td>35.7</td>\n",
       "      <td>0.0</td>\n",
       "      <td>0.0</td>\n",
       "      <td>4.0</td>\n",
       "      <td>0.0</td>\n",
       "      <td>1.0</td>\n",
       "    </tr>\n",
       "    <tr>\n",
       "      <th>164</th>\n",
       "      <td>33.9</td>\n",
       "      <td>0.0</td>\n",
       "      <td>0.0</td>\n",
       "      <td>4.0</td>\n",
       "      <td>1.0</td>\n",
       "      <td>2.0</td>\n",
       "    </tr>\n",
       "    <tr>\n",
       "      <th>...</th>\n",
       "      <td>...</td>\n",
       "      <td>...</td>\n",
       "      <td>...</td>\n",
       "      <td>...</td>\n",
       "      <td>...</td>\n",
       "      <td>...</td>\n",
       "    </tr>\n",
       "    <tr>\n",
       "      <th>546659</th>\n",
       "      <td>40.9</td>\n",
       "      <td>1.0</td>\n",
       "      <td>1.0</td>\n",
       "      <td>4.0</td>\n",
       "      <td>0.0</td>\n",
       "      <td>1.0</td>\n",
       "    </tr>\n",
       "    <tr>\n",
       "      <th>547633</th>\n",
       "      <td>32.2</td>\n",
       "      <td>0.0</td>\n",
       "      <td>1.0</td>\n",
       "      <td>0.0</td>\n",
       "      <td>1.0</td>\n",
       "      <td>1.0</td>\n",
       "    </tr>\n",
       "    <tr>\n",
       "      <th>547634</th>\n",
       "      <td>27.8</td>\n",
       "      <td>1.0</td>\n",
       "      <td>0.0</td>\n",
       "      <td>2.0</td>\n",
       "      <td>0.0</td>\n",
       "      <td>3.0</td>\n",
       "    </tr>\n",
       "    <tr>\n",
       "      <th>547635</th>\n",
       "      <td>30.2</td>\n",
       "      <td>0.0</td>\n",
       "      <td>0.0</td>\n",
       "      <td>3.0</td>\n",
       "      <td>0.0</td>\n",
       "      <td>1.0</td>\n",
       "    </tr>\n",
       "    <tr>\n",
       "      <th>547636</th>\n",
       "      <td>34.2</td>\n",
       "      <td>1.0</td>\n",
       "      <td>1.0</td>\n",
       "      <td>0.0</td>\n",
       "      <td>0.0</td>\n",
       "      <td>1.0</td>\n",
       "    </tr>\n",
       "  </tbody>\n",
       "</table>\n",
       "<p>8024 rows × 6 columns</p>\n",
       "</div>"
      ],
      "text/plain": [
       "        Nota Geral  Escolaridade Pai  Escolaridade Mãe  Horas de Trabalho  \\\n",
       "160           24.9               0.0               0.0                4.0   \n",
       "161           25.6               0.0               0.0                4.0   \n",
       "162           48.7               0.0               0.0                4.0   \n",
       "163           35.7               0.0               0.0                4.0   \n",
       "164           33.9               0.0               0.0                4.0   \n",
       "...            ...               ...               ...                ...   \n",
       "546659        40.9               1.0               1.0                4.0   \n",
       "547633        32.2               0.0               1.0                0.0   \n",
       "547634        27.8               1.0               0.0                2.0   \n",
       "547635        30.2               0.0               0.0                3.0   \n",
       "547636        34.2               1.0               1.0                0.0   \n",
       "\n",
       "        Ensino Médio  Tempo de Estudo  \n",
       "160              0.0              2.0  \n",
       "161              0.0              1.0  \n",
       "162              0.0              2.0  \n",
       "163              0.0              1.0  \n",
       "164              1.0              2.0  \n",
       "...              ...              ...  \n",
       "546659           0.0              1.0  \n",
       "547633           1.0              1.0  \n",
       "547634           0.0              3.0  \n",
       "547635           0.0              1.0  \n",
       "547636           0.0              1.0  \n",
       "\n",
       "[8024 rows x 6 columns]"
      ]
     },
     "execution_count": 34,
     "metadata": {},
     "output_type": "execute_result"
    }
   ],
   "source": [
    "economia_var"
   ]
  },
  {
   "cell_type": "code",
   "execution_count": null,
   "metadata": {},
   "outputs": [],
   "source": [
    "economia_var['residuos'] = model_GLS.resid"
   ]
  },
  {
   "cell_type": "code",
   "execution_count": null,
   "metadata": {},
   "outputs": [
    {
     "data": {
      "text/plain": [
       "<AxesSubplot:xlabel='Nota Geral', ylabel='residuos'>"
      ]
     },
     "execution_count": 36,
     "metadata": {},
     "output_type": "execute_result"
    },
    {
     "data": {
      "image/png": "[encoded data removed]",
      "text/plain": [
       "<Figure size 1080x720 with 1 Axes>"
      ]
     },
     "metadata": {
      "needs_background": "light"
     },
     "output_type": "display_data"
    }
   ],
   "source": [
    "fig, ax = plt.subplots(figsize=(15,10))\n",
    "sns.regplot(x='Nota Geral',y='residuos',data=economia_var) "
   ]
  },
  {
   "cell_type": "markdown",
   "metadata": {},
   "source": [
    "### Comparação de Coeficientes "
   ]
  },
  {
   "cell_type": "code",
   "execution_count": null,
   "metadata": {},
   "outputs": [
    {
     "data": {
      "text/plain": [
       "Index(['const', 'Escolaridade Pai_1.0', 'Escolaridade Mãe_1.0',\n",
       "       'Tempo de Estudo_1.0', 'Tempo de Estudo_2.0', 'Tempo de Estudo_3.0',\n",
       "       'Tempo de Estudo_4.0', 'Horas de Trabalho_1.0', 'Horas de Trabalho_2.0',\n",
       "       'Horas de Trabalho_3.0', 'Horas de Trabalho_4.0', 'Ensino Médio_1.0'],\n",
       "      dtype='object')"
      ]
     },
     "execution_count": 37,
     "metadata": {},
     "output_type": "execute_result"
    }
   ],
   "source": [
    "model_OLS.params.index"
   ]
  },
  {
   "cell_type": "code",
   "execution_count": null,
   "metadata": {},
   "outputs": [
    {
     "data": {
      "text/html": [
       "<div>\n",
       "<style scoped>\n",
       "    .dataframe tbody tr th:only-of-type {\n",
       "        vertical-align: middle;\n",
       "    }\n",
       "\n",
       "    .dataframe tbody tr th {\n",
       "        vertical-align: top;\n",
       "    }\n",
       "\n",
       "    .dataframe thead th {\n",
       "        text-align: right;\n",
       "    }\n",
       "</style>\n",
       "<table border=\"1\" class=\"dataframe\">\n",
       "  <thead>\n",
       "    <tr style=\"text-align: right;\">\n",
       "      <th></th>\n",
       "      <th>OLS</th>\n",
       "      <th>WLS</th>\n",
       "      <th>GLS</th>\n",
       "      <th>ols_pvalue</th>\n",
       "      <th>wls_pvalue</th>\n",
       "      <th>gls_pvalue</th>\n",
       "    </tr>\n",
       "  </thead>\n",
       "  <tbody>\n",
       "    <tr>\n",
       "      <th>const</th>\n",
       "      <td>35.805244</td>\n",
       "      <td>36.174234</td>\n",
       "      <td>35.435991</td>\n",
       "      <td>***</td>\n",
       "      <td>***</td>\n",
       "      <td>***</td>\n",
       "    </tr>\n",
       "    <tr>\n",
       "      <th>Escolaridade Pai_1.0</th>\n",
       "      <td>2.918530</td>\n",
       "      <td>2.874180</td>\n",
       "      <td>3.020261</td>\n",
       "      <td>***</td>\n",
       "      <td>***</td>\n",
       "      <td>***</td>\n",
       "    </tr>\n",
       "    <tr>\n",
       "      <th>Escolaridade Mãe_1.0</th>\n",
       "      <td>3.198207</td>\n",
       "      <td>3.505982</td>\n",
       "      <td>3.167370</td>\n",
       "      <td>***</td>\n",
       "      <td>***</td>\n",
       "      <td>***</td>\n",
       "    </tr>\n",
       "    <tr>\n",
       "      <th>Tempo de Estudo_1.0</th>\n",
       "      <td>-0.507774</td>\n",
       "      <td>-1.034630</td>\n",
       "      <td>-0.218954</td>\n",
       "      <td>insignificant</td>\n",
       "      <td>**</td>\n",
       "      <td>insignificant</td>\n",
       "    </tr>\n",
       "    <tr>\n",
       "      <th>Tempo de Estudo_2.0</th>\n",
       "      <td>1.073137</td>\n",
       "      <td>0.526186</td>\n",
       "      <td>1.370110</td>\n",
       "      <td>**</td>\n",
       "      <td>insignificant</td>\n",
       "      <td>insignificant</td>\n",
       "    </tr>\n",
       "    <tr>\n",
       "      <th>Tempo de Estudo_3.0</th>\n",
       "      <td>3.172846</td>\n",
       "      <td>2.685300</td>\n",
       "      <td>3.611171</td>\n",
       "      <td>***</td>\n",
       "      <td>***</td>\n",
       "      <td>***</td>\n",
       "    </tr>\n",
       "    <tr>\n",
       "      <th>Tempo de Estudo_4.0</th>\n",
       "      <td>4.438742</td>\n",
       "      <td>3.710113</td>\n",
       "      <td>4.750338</td>\n",
       "      <td>***</td>\n",
       "      <td>***</td>\n",
       "      <td>***</td>\n",
       "    </tr>\n",
       "    <tr>\n",
       "      <th>Horas de Trabalho_1.0</th>\n",
       "      <td>-1.083189</td>\n",
       "      <td>-1.382665</td>\n",
       "      <td>-0.917382</td>\n",
       "      <td>insignificant</td>\n",
       "      <td>*</td>\n",
       "      <td>insignificant</td>\n",
       "    </tr>\n",
       "    <tr>\n",
       "      <th>Horas de Trabalho_2.0</th>\n",
       "      <td>-1.914608</td>\n",
       "      <td>-1.954902</td>\n",
       "      <td>-1.871805</td>\n",
       "      <td>***</td>\n",
       "      <td>***</td>\n",
       "      <td>***</td>\n",
       "    </tr>\n",
       "    <tr>\n",
       "      <th>Horas de Trabalho_3.0</th>\n",
       "      <td>-1.769869</td>\n",
       "      <td>-1.598497</td>\n",
       "      <td>-1.842513</td>\n",
       "      <td>***</td>\n",
       "      <td>***</td>\n",
       "      <td>***</td>\n",
       "    </tr>\n",
       "    <tr>\n",
       "      <th>Horas de Trabalho_4.0</th>\n",
       "      <td>-3.100784</td>\n",
       "      <td>-2.767281</td>\n",
       "      <td>-3.086464</td>\n",
       "      <td>***</td>\n",
       "      <td>***</td>\n",
       "      <td>***</td>\n",
       "    </tr>\n",
       "    <tr>\n",
       "      <th>Ensino Médio_1.0</th>\n",
       "      <td>2.704672</td>\n",
       "      <td>2.966468</td>\n",
       "      <td>2.800264</td>\n",
       "      <td>***</td>\n",
       "      <td>***</td>\n",
       "      <td>***</td>\n",
       "    </tr>\n",
       "  </tbody>\n",
       "</table>\n",
       "</div>"
      ],
      "text/plain": [
       "                             OLS        WLS        GLS     ols_pvalue  \\\n",
       "const                  35.805244  36.174234  35.435991            ***   \n",
       "Escolaridade Pai_1.0    2.918530   2.874180   3.020261            ***   \n",
       "Escolaridade Mãe_1.0    3.198207   3.505982   3.167370            ***   \n",
       "Tempo de Estudo_1.0    -0.507774  -1.034630  -0.218954  insignificant   \n",
       "Tempo de Estudo_2.0     1.073137   0.526186   1.370110             **   \n",
       "Tempo de Estudo_3.0     3.172846   2.685300   3.611171            ***   \n",
       "Tempo de Estudo_4.0     4.438742   3.710113   4.750338            ***   \n",
       "Horas de Trabalho_1.0  -1.083189  -1.382665  -0.917382  insignificant   \n",
       "Horas de Trabalho_2.0  -1.914608  -1.954902  -1.871805            ***   \n",
       "Horas de Trabalho_3.0  -1.769869  -1.598497  -1.842513            ***   \n",
       "Horas de Trabalho_4.0  -3.100784  -2.767281  -3.086464            ***   \n",
       "Ensino Médio_1.0        2.704672   2.966468   2.800264            ***   \n",
       "\n",
       "                          wls_pvalue     gls_pvalue  \n",
       "const                            ***            ***  \n",
       "Escolaridade Pai_1.0             ***            ***  \n",
       "Escolaridade Mãe_1.0             ***            ***  \n",
       "Tempo de Estudo_1.0               **  insignificant  \n",
       "Tempo de Estudo_2.0    insignificant  insignificant  \n",
       "Tempo de Estudo_3.0              ***            ***  \n",
       "Tempo de Estudo_4.0              ***            ***  \n",
       "Horas de Trabalho_1.0              *  insignificant  \n",
       "Horas de Trabalho_2.0            ***            ***  \n",
       "Horas de Trabalho_3.0            ***            ***  \n",
       "Horas de Trabalho_4.0            ***            ***  \n",
       "Ensino Médio_1.0                 ***            ***  "
      ]
     },
     "execution_count": 38,
     "metadata": {},
     "output_type": "execute_result"
    }
   ],
   "source": [
    "#Compare OSL and GSL coefficients\n",
    "x=[]\n",
    "for i in model_OLS.pvalues:\n",
    "    if i<0.01: x.append(\"***\")\n",
    "    else: \n",
    "        if i<0.05: x.append(\"**\")\n",
    "        else: \n",
    "            if i <0.1: x.append(\"*\")\n",
    "            else: x.append(\"insignificant\")\n",
    "y=[]\n",
    "for i in model_WLS.pvalues:\n",
    "    if i<0.01: y.append(\"***\")\n",
    "    else: \n",
    "        if i<0.05: y.append(\"**\")\n",
    "        else: \n",
    "            if i <0.1: y.append(\"*\")\n",
    "            else: y.append(\"insignificant\")\n",
    "z=[]\n",
    "for i in model_GLS.pvalues:\n",
    "    if i<0.01: z.append(\"***\")\n",
    "    else: \n",
    "        if i<0.05: z.append(\"**\")\n",
    "        else: \n",
    "            if i <0.1: z.append(\"*\")\n",
    "            else: z.append(\"insignificant\")\n",
    "            \n",
    "pd.DataFrame({\"OLS\":list(model_OLS.params),\"WLS\":list(model_WLS.params),\"GLS\":list(model_GLS.params),\"ols_pvalue\":x,\"wls_pvalue\":y,\"gls_pvalue\":z},index=model_OLS.params.index)\n",
    "##GLS will tend to suppress insignificant coefficients and elevate significant ones.\n"
   ]
  }
 ],
 "metadata": {
  "kernelspec": {
   "display_name": "Python 3.9.12 ('econometria')",
   "language": "python",
   "name": "python3"
  },
  "language_info": {
   "codemirror_mode": {
    "name": "ipython",
    "version": 3
   },
   "file_extension": ".py",
   "mimetype": "text/x-python",
   "name": "python",
   "nbconvert_exporter": "python",
   "pygments_lexer": "ipython3",
   "version": "3.9.12"
  },
  "orig_nbformat": 4,
  "vscode": {
   "interpreter": {
    "hash": "2d77b586cfa25f3cadafc2a7d9d2ffb1689fffb3b5bbb5f99a0b413248eba82d"
   }
  }
 },
 "nbformat": 4,
 "nbformat_minor": 2
}
