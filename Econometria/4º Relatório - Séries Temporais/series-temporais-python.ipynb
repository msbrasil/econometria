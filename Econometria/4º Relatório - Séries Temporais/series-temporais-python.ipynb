{
 "cells": [
  {
   "cell_type": "code",
   "execution_count": 1,
   "id": "3e083474",
   "metadata": {},
   "outputs": [],
   "source": [
    "import pandas as pd\n",
    "import numpy as np\n",
    "from matplotlib import pyplot as plt\n",
    "\n",
    "from pmdarima import auto_arima\n",
    "from statsmodels.tsa.arima.model import ARIMA"
   ]
  },
  {
   "cell_type": "code",
   "execution_count": 6,
   "id": "63690b9b",
   "metadata": {},
   "outputs": [
    {
     "data": {
      "text/html": [
       "<div>\n",
       "<style scoped>\n",
       "    .dataframe tbody tr th:only-of-type {\n",
       "        vertical-align: middle;\n",
       "    }\n",
       "\n",
       "    .dataframe tbody tr th {\n",
       "        vertical-align: top;\n",
       "    }\n",
       "\n",
       "    .dataframe thead th {\n",
       "        text-align: right;\n",
       "    }\n",
       "</style>\n",
       "<table border=\"1\" class=\"dataframe\">\n",
       "  <thead>\n",
       "    <tr style=\"text-align: right;\">\n",
       "      <th></th>\n",
       "      <th>date</th>\n",
       "      <th>close</th>\n",
       "    </tr>\n",
       "  </thead>\n",
       "  <tbody>\n",
       "    <tr>\n",
       "      <th>5672</th>\n",
       "      <td>2022-07-29</td>\n",
       "      <td>34.150002</td>\n",
       "    </tr>\n",
       "    <tr>\n",
       "      <th>5673</th>\n",
       "      <td>2022-08-01</td>\n",
       "      <td>33.680000</td>\n",
       "    </tr>\n",
       "    <tr>\n",
       "      <th>5674</th>\n",
       "      <td>2022-08-02</td>\n",
       "      <td>33.830002</td>\n",
       "    </tr>\n",
       "    <tr>\n",
       "      <th>5675</th>\n",
       "      <td>2022-08-03</td>\n",
       "      <td>33.849998</td>\n",
       "    </tr>\n",
       "    <tr>\n",
       "      <th>5676</th>\n",
       "      <td>2022-08-04</td>\n",
       "      <td>34.020000</td>\n",
       "    </tr>\n",
       "  </tbody>\n",
       "</table>\n",
       "</div>"
      ],
      "text/plain": [
       "           date      close\n",
       "5672 2022-07-29  34.150002\n",
       "5673 2022-08-01  33.680000\n",
       "5674 2022-08-02  33.830002\n",
       "5675 2022-08-03  33.849998\n",
       "5676 2022-08-04  34.020000"
      ]
     },
     "execution_count": 6,
     "metadata": {},
     "output_type": "execute_result"
    }
   ],
   "source": [
    "# vamos importar a série histórica da petrobras\n",
    "df = pd.read_excel('petr4.xlsx', parse_dates=['date'])\n",
    "df.tail()"
   ]
  },
  {
   "cell_type": "code",
   "execution_count": 7,
   "id": "6a51ed36",
   "metadata": {},
   "outputs": [],
   "source": [
    "df.set_index('date', inplace=True)"
   ]
  },
  {
   "cell_type": "code",
   "execution_count": 8,
   "id": "c1b6e5d1",
   "metadata": {},
   "outputs": [
    {
     "data": {
      "text/html": [
       "<div>\n",
       "<style scoped>\n",
       "    .dataframe tbody tr th:only-of-type {\n",
       "        vertical-align: middle;\n",
       "    }\n",
       "\n",
       "    .dataframe tbody tr th {\n",
       "        vertical-align: top;\n",
       "    }\n",
       "\n",
       "    .dataframe thead th {\n",
       "        text-align: right;\n",
       "    }\n",
       "</style>\n",
       "<table border=\"1\" class=\"dataframe\">\n",
       "  <thead>\n",
       "    <tr style=\"text-align: right;\">\n",
       "      <th></th>\n",
       "      <th>close</th>\n",
       "    </tr>\n",
       "    <tr>\n",
       "      <th>date</th>\n",
       "      <th></th>\n",
       "    </tr>\n",
       "  </thead>\n",
       "  <tbody>\n",
       "    <tr>\n",
       "      <th>2000-01-03</th>\n",
       "      <td>5.875000</td>\n",
       "    </tr>\n",
       "    <tr>\n",
       "      <th>2000-01-04</th>\n",
       "      <td>5.550000</td>\n",
       "    </tr>\n",
       "    <tr>\n",
       "      <th>2000-01-05</th>\n",
       "      <td>5.494000</td>\n",
       "    </tr>\n",
       "    <tr>\n",
       "      <th>2000-01-06</th>\n",
       "      <td>5.475000</td>\n",
       "    </tr>\n",
       "    <tr>\n",
       "      <th>2000-01-07</th>\n",
       "      <td>5.500000</td>\n",
       "    </tr>\n",
       "    <tr>\n",
       "      <th>...</th>\n",
       "      <td>...</td>\n",
       "    </tr>\n",
       "    <tr>\n",
       "      <th>2022-07-29</th>\n",
       "      <td>34.150002</td>\n",
       "    </tr>\n",
       "    <tr>\n",
       "      <th>2022-08-01</th>\n",
       "      <td>33.680000</td>\n",
       "    </tr>\n",
       "    <tr>\n",
       "      <th>2022-08-02</th>\n",
       "      <td>33.830002</td>\n",
       "    </tr>\n",
       "    <tr>\n",
       "      <th>2022-08-03</th>\n",
       "      <td>33.849998</td>\n",
       "    </tr>\n",
       "    <tr>\n",
       "      <th>2022-08-04</th>\n",
       "      <td>34.020000</td>\n",
       "    </tr>\n",
       "  </tbody>\n",
       "</table>\n",
       "<p>5677 rows × 1 columns</p>\n",
       "</div>"
      ],
      "text/plain": [
       "                close\n",
       "date                 \n",
       "2000-01-03   5.875000\n",
       "2000-01-04   5.550000\n",
       "2000-01-05   5.494000\n",
       "2000-01-06   5.475000\n",
       "2000-01-07   5.500000\n",
       "...               ...\n",
       "2022-07-29  34.150002\n",
       "2022-08-01  33.680000\n",
       "2022-08-02  33.830002\n",
       "2022-08-03  33.849998\n",
       "2022-08-04  34.020000\n",
       "\n",
       "[5677 rows x 1 columns]"
      ]
     },
     "execution_count": 8,
     "metadata": {},
     "output_type": "execute_result"
    }
   ],
   "source": [
    "df"
   ]
  },
  {
   "cell_type": "code",
   "execution_count": 9,
   "id": "3de1f1f9",
   "metadata": {},
   "outputs": [
    {
     "data": {
      "text/plain": [
       "(Timestamp('2000-01-03 00:00:00'), Timestamp('2022-08-04 00:00:00'))"
      ]
     },
     "execution_count": 9,
     "metadata": {},
     "output_type": "execute_result"
    }
   ],
   "source": [
    "# Quando começam e terminam os dados?\n",
    "df.index.min(), df.index.max()"
   ]
  },
  {
   "cell_type": "code",
   "execution_count": 10,
   "id": "bb211b81",
   "metadata": {},
   "outputs": [],
   "source": [
    "df.columns = ['preco']"
   ]
  },
  {
   "cell_type": "code",
   "execution_count": 11,
   "id": "c2cbf5ff",
   "metadata": {},
   "outputs": [
    {
     "data": {
      "text/plain": [
       "<AxesSubplot:xlabel='date'>"
      ]
     },
     "execution_count": 11,
     "metadata": {},
     "output_type": "execute_result"
    },
    {
     "data": {
      "image/png": "[encoded data removed]",
      "text/plain": [
       "<Figure size 720x432 with 1 Axes>"
      ]
     },
     "metadata": {
      "needs_background": "light"
     },
     "output_type": "display_data"
    }
   ],
   "source": [
    "# Vamos dar uma olhada no gráfico de preco x anos\n",
    "df['preco'].plot(figsize=(10,6))"
   ]
  },
  {
   "cell_type": "markdown",
   "id": "840a0d25",
   "metadata": {},
   "source": [
    "### Prevendo com ARIMA\n",
    "\n",
    "notebook referencia:\n",
    "\n",
    "https://www.kaggle.com/ludovicocuoghi/electric-production-forecast-lstm-sarima"
   ]
  },
  {
   "cell_type": "code",
   "execution_count": 12,
   "id": "a1154dfe",
   "metadata": {},
   "outputs": [
    {
     "data": {
      "text/plain": [
       "preco    0\n",
       "dtype: int64"
      ]
     },
     "execution_count": 12,
     "metadata": {},
     "output_type": "execute_result"
    }
   ],
   "source": [
    "df.isna().sum()"
   ]
  },
  {
   "cell_type": "code",
   "execution_count": 14,
   "id": "bc5fbc04",
   "metadata": {},
   "outputs": [
    {
     "data": {
      "text/plain": [
       "<Figure size 1152x864 with 0 Axes>"
      ]
     },
     "metadata": {},
     "output_type": "display_data"
    },
    {
     "data": {
      "image/png": "[encoded data removed]",
      "text/plain": [
       "<Figure size 432x288 with 4 Axes>"
      ]
     },
     "metadata": {
      "needs_background": "light"
     },
     "output_type": "display_data"
    }
   ],
   "source": [
    "# Primeiro, vamos decompor a série pra avaliar tendência\n",
    "# Sazonalidade e resíduo\n",
    "from statsmodels.tsa.seasonal import seasonal_decompose\n",
    "\n",
    "resultado = seasonal_decompose(df, model='additive', period=252, extrapolate_trend = 'freq')\n",
    "\n",
    "fig = plt.figure(figsize=(16, 12))  \n",
    "fig = resultado.plot()"
   ]
  },
  {
   "cell_type": "markdown",
   "id": "401f15ce",
   "metadata": {},
   "source": [
    "#### Teste de estacionariedade"
   ]
  },
  {
   "cell_type": "code",
   "execution_count": 16,
   "id": "7259e50f",
   "metadata": {},
   "outputs": [
    {
     "name": "stdout",
     "output_type": "stream",
     "text": [
      "Teste ADF:-2.206588857368607\n",
      "p-valor:0.20386277898879257\n"
     ]
    }
   ],
   "source": [
    "# Teste de estacionariedade. \n",
    "# A hipótese nula é que a série não é estacionária\n",
    "# Ou seja, se o p-valor for menor que 0,05, rejeitamos\n",
    "# que a série não é estacionária. Caso seja maior, não podemos\n",
    "# descartar que a série não é estacionária\n",
    "from statsmodels.tsa.stattools import adfuller\n",
    "\n",
    "result=adfuller(df['preco'].dropna())\n",
    "print(f'Teste ADF:{result[0]}')\n",
    "print(f'p-valor:{result[1]}')"
   ]
  },
  {
   "cell_type": "code",
   "execution_count": 17,
   "id": "05ea0dfa",
   "metadata": {},
   "outputs": [
    {
     "name": "stderr",
     "output_type": "stream",
     "text": [
      "/home/matheus/miniconda3/envs/econometria/lib/python3.9/site-packages/statsmodels/graphics/tsaplots.py:348: FutureWarning: The default method 'yw' can produce PACF values outside of the [-1,1] interval. After 0.13, the default will change tounadjusted Yule-Walker ('ywm'). You can use this method now by setting method='ywm'.\n",
      "  warnings.warn(\n"
     ]
    },
    {
     "data": {
      "image/png": "[encoded data removed]",
      "text/plain": [
       "<Figure size 864x864 with 2 Axes>"
      ]
     },
     "metadata": {
      "needs_background": "light"
     },
     "output_type": "display_data"
    }
   ],
   "source": [
    "from statsmodels.graphics.tsaplots import plot_acf, plot_pacf\n",
    "fig, (ax1, ax2)=plt.subplots(2,1,figsize=(12,12))\n",
    "\n",
    "plot_acf(df,lags=14, zero=False, ax=ax1)\n",
    "plot_pacf(df,lags=14, zero=False, ax=ax2)\n",
    "plt.show()"
   ]
  },
  {
   "cell_type": "markdown",
   "id": "6a33eda5",
   "metadata": {},
   "source": [
    "#### Ou seja, a série não é realmente estacionária (p-valor >0.05, não podemos rejeitar a hipótese nula)"
   ]
  },
  {
   "cell_type": "code",
   "execution_count": 18,
   "id": "e211b8d9",
   "metadata": {
    "scrolled": true
   },
   "outputs": [
    {
     "name": "stdout",
     "output_type": "stream",
     "text": [
      "Performing stepwise search to minimize aic\n",
      " ARIMA(1,1,1)(1,1,1)[6]             : AIC=inf, Time=11.99 sec\n",
      " ARIMA(0,1,0)(0,1,0)[6]             : AIC=13242.697, Time=0.31 sec\n",
      " ARIMA(1,1,0)(1,1,0)[6]             : AIC=11650.099, Time=0.83 sec\n",
      " ARIMA(0,1,1)(0,1,1)[6]             : AIC=inf, Time=4.94 sec\n",
      " ARIMA(1,1,0)(0,1,0)[6]             : AIC=13240.771, Time=0.23 sec\n",
      " ARIMA(1,1,0)(2,1,0)[6]             : AIC=10965.515, Time=1.44 sec\n",
      " ARIMA(1,1,0)(2,1,1)[6]             : AIC=inf, Time=11.24 sec\n",
      " ARIMA(1,1,0)(1,1,1)[6]             : AIC=inf, Time=6.80 sec\n",
      " ARIMA(0,1,0)(2,1,0)[6]             : AIC=10963.771, Time=0.87 sec\n",
      " ARIMA(0,1,0)(1,1,0)[6]             : AIC=11649.148, Time=0.49 sec\n",
      " ARIMA(0,1,0)(2,1,1)[6]             : AIC=inf, Time=8.49 sec\n",
      " ARIMA(0,1,0)(1,1,1)[6]             : AIC=inf, Time=5.16 sec\n",
      " ARIMA(0,1,1)(2,1,0)[6]             : AIC=10965.506, Time=1.37 sec\n",
      " ARIMA(1,1,1)(2,1,0)[6]             : AIC=inf, Time=11.69 sec\n",
      " ARIMA(0,1,0)(2,1,0)[6] intercept   : AIC=10965.761, Time=3.26 sec\n",
      "\n",
      "Best model:  ARIMA(0,1,0)(2,1,0)[6]          \n",
      "Total fit time: 69.157 seconds\n"
     ]
    }
   ],
   "source": [
    "# Auto ARIMA nos ajuda a buscar os melhores parâmetros\n",
    "fit_arima = auto_arima(df, d=1, start_p=1, start_q=1, max_p=3, max_q=3,\n",
    "                    seasonal=True, \n",
    "                           m=6, \n",
    "                           D=1, \n",
    "                           start_P=1, \n",
    "                           start_Q=1, \n",
    "                           max_P=2, \n",
    "                           max_Q=2, \n",
    "                           information_criterion='aic',\n",
    "                           trace=True, \n",
    "                           error_action='ignore', \n",
    "                           stepwise=True)"
   ]
  },
  {
   "cell_type": "code",
   "execution_count": 19,
   "id": "18445027",
   "metadata": {
    "scrolled": true
   },
   "outputs": [
    {
     "name": "stderr",
     "output_type": "stream",
     "text": [
      "/home/matheus/miniconda3/envs/econometria/lib/python3.9/site-packages/statsmodels/tsa/base/tsa_model.py:471: ValueWarning: A date index has been provided, but it has no associated frequency information and so will be ignored when e.g. forecasting.\n",
      "  self._init_dates(dates, freq)\n",
      "/home/matheus/miniconda3/envs/econometria/lib/python3.9/site-packages/statsmodels/tsa/base/tsa_model.py:471: ValueWarning: A date index has been provided, but it has no associated frequency information and so will be ignored when e.g. forecasting.\n",
      "  self._init_dates(dates, freq)\n",
      " This problem is unconstrained.\n"
     ]
    },
    {
     "name": "stdout",
     "output_type": "stream",
     "text": [
      "RUNNING THE L-BFGS-B CODE\n",
      "\n",
      "           * * *\n",
      "\n",
      "Machine precision = 2.220D-16\n",
      " N =            3     M =           10\n",
      "\n",
      "At X0         0 variables are exactly at the bounds\n",
      "\n",
      "At iterate    0    f=  9.65104D-01    |proj g|=  3.25782D-03\n",
      "\n",
      "At iterate    5    f=  9.65102D-01    |proj g|=  3.99863D-06\n",
      "\n",
      "           * * *\n",
      "\n",
      "Tit   = total number of iterations\n",
      "Tnf   = total number of function evaluations\n",
      "Tnint = total number of segments explored during Cauchy searches\n",
      "Skip  = number of BFGS updates skipped\n",
      "Nact  = number of active bounds at final generalized Cauchy point\n",
      "Projg = norm of the final projected gradient\n",
      "F     = final function value\n",
      "\n",
      "           * * *\n",
      "\n",
      "   N    Tit     Tnf  Tnint  Skip  Nact     Projg        F\n",
      "    3      5      7      1     0     0   3.999D-06   9.651D-01\n",
      "  F =  0.96510226620470729     \n",
      "\n",
      "CONVERGENCE: NORM_OF_PROJECTED_GRADIENT_<=_PGTOL            \n"
     ]
    }
   ],
   "source": [
    "# Agora que sabemos os melhores parâmetros, vamos criar um modelo SARIMAX \n",
    "# (versão do arima com parametros para sazonalidade)\n",
    "\n",
    "from statsmodels.tsa.statespace.sarimax import SARIMAX\n",
    "\n",
    "model = SARIMAX(df,order=(0,1,0),  seasonal_order=(2,1,0,6))\n",
    "resultado_sarimax = model.fit()"
   ]
  },
  {
   "cell_type": "code",
   "execution_count": 20,
   "id": "a0ae1e6f",
   "metadata": {},
   "outputs": [
    {
     "data": {
      "text/html": [
       "<table class=\"simpletable\">\n",
       "<caption>SARIMAX Results</caption>\n",
       "<tr>\n",
       "  <th>Dep. Variable:</th>               <td>preco</td>             <th>  No. Observations:  </th>   <td>5677</td>   \n",
       "</tr>\n",
       "<tr>\n",
       "  <th>Model:</th>           <td>SARIMAX(0, 1, 0)x(2, 1, 0, 6)</td> <th>  Log Likelihood     </th> <td>-5478.886</td>\n",
       "</tr>\n",
       "<tr>\n",
       "  <th>Date:</th>                  <td>Sat, 06 Aug 2022</td>        <th>  AIC                </th> <td>10963.771</td>\n",
       "</tr>\n",
       "<tr>\n",
       "  <th>Time:</th>                      <td>08:57:38</td>            <th>  BIC                </th> <td>10983.700</td>\n",
       "</tr>\n",
       "<tr>\n",
       "  <th>Sample:</th>                        <td>0</td>               <th>  HQIC               </th> <td>10970.712</td>\n",
       "</tr>\n",
       "<tr>\n",
       "  <th></th>                            <td> - 5677</td>            <th>                     </th>     <td> </td>    \n",
       "</tr>\n",
       "<tr>\n",
       "  <th>Covariance Type:</th>              <td>opg</td>              <th>                     </th>     <td> </td>    \n",
       "</tr>\n",
       "</table>\n",
       "<table class=\"simpletable\">\n",
       "<tr>\n",
       "      <td></td>        <th>coef</th>     <th>std err</th>      <th>z</th>      <th>P>|z|</th>  <th>[0.025</th>    <th>0.975]</th>  \n",
       "</tr>\n",
       "<tr>\n",
       "  <th>ar.S.L6</th>  <td>   -0.6631</td> <td>    0.007</td> <td>  -98.589</td> <td> 0.000</td> <td>   -0.676</td> <td>   -0.650</td>\n",
       "</tr>\n",
       "<tr>\n",
       "  <th>ar.S.L12</th> <td>   -0.3380</td> <td>    0.006</td> <td>  -53.425</td> <td> 0.000</td> <td>   -0.350</td> <td>   -0.326</td>\n",
       "</tr>\n",
       "<tr>\n",
       "  <th>sigma2</th>   <td>    0.4042</td> <td>    0.003</td> <td>  136.150</td> <td> 0.000</td> <td>    0.398</td> <td>    0.410</td>\n",
       "</tr>\n",
       "</table>\n",
       "<table class=\"simpletable\">\n",
       "<tr>\n",
       "  <th>Ljung-Box (L1) (Q):</th>     <td>0.26</td> <th>  Jarque-Bera (JB):  </th> <td>32046.53</td>\n",
       "</tr>\n",
       "<tr>\n",
       "  <th>Prob(Q):</th>                <td>0.61</td> <th>  Prob(JB):          </th>   <td>0.00</td>  \n",
       "</tr>\n",
       "<tr>\n",
       "  <th>Heteroskedasticity (H):</th> <td>6.75</td> <th>  Skew:              </th>   <td>-0.45</td> \n",
       "</tr>\n",
       "<tr>\n",
       "  <th>Prob(H) (two-sided):</th>    <td>0.00</td> <th>  Kurtosis:          </th>   <td>14.61</td> \n",
       "</tr>\n",
       "</table><br/><br/>Warnings:<br/>[1] Covariance matrix calculated using the outer product of gradients (complex-step)."
      ],
      "text/plain": [
       "<class 'statsmodels.iolib.summary.Summary'>\n",
       "\"\"\"\n",
       "                                     SARIMAX Results                                     \n",
       "=========================================================================================\n",
       "Dep. Variable:                             preco   No. Observations:                 5677\n",
       "Model:             SARIMAX(0, 1, 0)x(2, 1, 0, 6)   Log Likelihood               -5478.886\n",
       "Date:                           Sat, 06 Aug 2022   AIC                          10963.771\n",
       "Time:                                   08:57:38   BIC                          10983.700\n",
       "Sample:                                        0   HQIC                         10970.712\n",
       "                                          - 5677                                         \n",
       "Covariance Type:                             opg                                         \n",
       "==============================================================================\n",
       "                 coef    std err          z      P>|z|      [0.025      0.975]\n",
       "------------------------------------------------------------------------------\n",
       "ar.S.L6       -0.6631      0.007    -98.589      0.000      -0.676      -0.650\n",
       "ar.S.L12      -0.3380      0.006    -53.425      0.000      -0.350      -0.326\n",
       "sigma2         0.4042      0.003    136.150      0.000       0.398       0.410\n",
       "===================================================================================\n",
       "Ljung-Box (L1) (Q):                   0.26   Jarque-Bera (JB):             32046.53\n",
       "Prob(Q):                              0.61   Prob(JB):                         0.00\n",
       "Heteroskedasticity (H):               6.75   Skew:                            -0.45\n",
       "Prob(H) (two-sided):                  0.00   Kurtosis:                        14.61\n",
       "===================================================================================\n",
       "\n",
       "Warnings:\n",
       "[1] Covariance matrix calculated using the outer product of gradients (complex-step).\n",
       "\"\"\""
      ]
     },
     "execution_count": 20,
     "metadata": {},
     "output_type": "execute_result"
    }
   ],
   "source": [
    "# resultados do modelo SARIMAX(2,1,2)\n",
    "resultado_sarimax.summary()"
   ]
  },
  {
   "cell_type": "code",
   "execution_count": 21,
   "id": "c29d65f7",
   "metadata": {},
   "outputs": [],
   "source": [
    "# Vamos realizar um \"backtesting\" com predições de valores dos 12 meses anteriores\n",
    "predicoes = resultado_sarimax.get_prediction(start=-252)\n",
    "predicao_media = predicoes.predicted_mean"
   ]
  },
  {
   "cell_type": "code",
   "execution_count": 22,
   "id": "464a65ef",
   "metadata": {},
   "outputs": [
    {
     "data": {
      "text/plain": [
       "(25.40823461996463, 27.900374785135938)"
      ]
     },
     "execution_count": 22,
     "metadata": {},
     "output_type": "execute_result"
    }
   ],
   "source": [
    "# intervalo de confiança\n",
    "\n",
    "intervalo_confianca = predicoes.conf_int()\n",
    "limites_abaixo = intervalo_confianca.iloc[:,0]\n",
    "limites_acima = intervalo_confianca.iloc[:,1]\n",
    "\n",
    "limites_abaixo[0], limites_acima[0]"
   ]
  },
  {
   "cell_type": "code",
   "execution_count": 28,
   "id": "a3be25e2",
   "metadata": {},
   "outputs": [
    {
     "data": {
      "text/plain": [
       "26.654304702550284"
      ]
     },
     "execution_count": 28,
     "metadata": {},
     "output_type": "execute_result"
    }
   ],
   "source": [
    "predicao_media[0]"
   ]
  },
  {
   "cell_type": "code",
   "execution_count": 29,
   "id": "2c80179c",
   "metadata": {},
   "outputs": [],
   "source": [
    "datas_previsao = np.asarray(predicao_media.index)\n",
    "datas = np.asarray(df.index)"
   ]
  },
  {
   "cell_type": "code",
   "execution_count": 30,
   "id": "884da51b",
   "metadata": {},
   "outputs": [
    {
     "data": {
      "image/png": "[encoded data removed]",
      "text/plain": [
       "<Figure size 720x432 with 1 Axes>"
      ]
     },
     "metadata": {
      "needs_background": "light"
     },
     "output_type": "display_data"
    }
   ],
   "source": [
    "plt.figure(figsize=(10,6))\n",
    "plt.plot(datas_previsao,predicao_media.values,color='red',label='prediction')\n",
    "plt.fill_between(datas_previsao, limites_abaixo, limites_acima, color='red')\n",
    "plt.plot(datas, df.values, label='real')\n",
    "plt.legend()\n",
    "plt.show()"
   ]
  },
  {
   "cell_type": "code",
   "execution_count": 31,
   "id": "5dd2d8ac",
   "metadata": {},
   "outputs": [
    {
     "name": "stdout",
     "output_type": "stream",
     "text": [
      "0.915136539207053\n"
     ]
    }
   ],
   "source": [
    "from sklearn.metrics import mean_squared_error\n",
    "from math import sqrt\n",
    "\n",
    "rmse_sarima = sqrt(mean_squared_error(df[-252:].values,predicao_media.values))\n",
    "print(rmse_sarima)"
   ]
  },
  {
   "cell_type": "markdown",
   "id": "e28c9dd6",
   "metadata": {},
   "source": [
    "#### FORECAST COM ARIMA"
   ]
  },
  {
   "cell_type": "code",
   "execution_count": 32,
   "id": "f5fa36db",
   "metadata": {},
   "outputs": [
    {
     "name": "stderr",
     "output_type": "stream",
     "text": [
      "/home/matheus/miniconda3/envs/econometria/lib/python3.9/site-packages/statsmodels/tsa/base/tsa_model.py:834: ValueWarning: No supported index is available. Prediction results will be given with an integer index beginning at `start`.\n",
      "  return get_prediction_index(\n"
     ]
    },
    {
     "data": {
      "text/plain": [
       "252"
      ]
     },
     "execution_count": 32,
     "metadata": {},
     "output_type": "execute_result"
    }
   ],
   "source": [
    "# Forecast pra 12 values\n",
    "\n",
    "forecast = resultado_sarimax.get_forecast(steps=252)\n",
    "forecast_medio = forecast.predicted_mean\n",
    "forecast_medio.size"
   ]
  },
  {
   "cell_type": "code",
   "execution_count": 34,
   "id": "ba27d8ff",
   "metadata": {},
   "outputs": [
    {
     "data": {
      "text/plain": [
       "(-122.92221238901075, 368.03020556595004)"
      ]
     },
     "execution_count": 34,
     "metadata": {},
     "output_type": "execute_result"
    }
   ],
   "source": [
    "intervalo_confianca_forecast = forecast.conf_int()\n",
    "intervalo_abaixo_f = intervalo_confianca_forecast.iloc[:,0]\n",
    "intervalo_acima_f = intervalo_confianca_forecast.iloc[:,1]\n",
    "\n",
    "intervalo_abaixo_f[5925], intervalo_acima_f[5925]"
   ]
  },
  {
   "cell_type": "code",
   "execution_count": 35,
   "id": "5624bc3e",
   "metadata": {},
   "outputs": [
    {
     "data": {
      "text/html": [
       "<div>\n",
       "<style scoped>\n",
       "    .dataframe tbody tr th:only-of-type {\n",
       "        vertical-align: middle;\n",
       "    }\n",
       "\n",
       "    .dataframe tbody tr th {\n",
       "        vertical-align: top;\n",
       "    }\n",
       "\n",
       "    .dataframe thead th {\n",
       "        text-align: right;\n",
       "    }\n",
       "</style>\n",
       "<table border=\"1\" class=\"dataframe\">\n",
       "  <thead>\n",
       "    <tr style=\"text-align: right;\">\n",
       "      <th></th>\n",
       "      <th>lower preco</th>\n",
       "      <th>upper preco</th>\n",
       "    </tr>\n",
       "  </thead>\n",
       "  <tbody>\n",
       "    <tr>\n",
       "      <th>5677</th>\n",
       "      <td>32.941973</td>\n",
       "      <td>35.434114</td>\n",
       "    </tr>\n",
       "    <tr>\n",
       "      <th>5678</th>\n",
       "      <td>33.010378</td>\n",
       "      <td>36.534797</td>\n",
       "    </tr>\n",
       "    <tr>\n",
       "      <th>5679</th>\n",
       "      <td>32.299898</td>\n",
       "      <td>36.616411</td>\n",
       "    </tr>\n",
       "    <tr>\n",
       "      <th>5680</th>\n",
       "      <td>32.620830</td>\n",
       "      <td>37.605110</td>\n",
       "    </tr>\n",
       "    <tr>\n",
       "      <th>5681</th>\n",
       "      <td>32.650531</td>\n",
       "      <td>38.223126</td>\n",
       "    </tr>\n",
       "    <tr>\n",
       "      <th>...</th>\n",
       "      <td>...</td>\n",
       "      <td>...</td>\n",
       "    </tr>\n",
       "    <tr>\n",
       "      <th>5924</th>\n",
       "      <td>-121.219636</td>\n",
       "      <td>366.848650</td>\n",
       "    </tr>\n",
       "    <tr>\n",
       "      <th>5925</th>\n",
       "      <td>-122.922212</td>\n",
       "      <td>368.030206</td>\n",
       "    </tr>\n",
       "    <tr>\n",
       "      <th>5926</th>\n",
       "      <td>-123.747521</td>\n",
       "      <td>370.072184</td>\n",
       "    </tr>\n",
       "    <tr>\n",
       "      <th>5927</th>\n",
       "      <td>-124.952064</td>\n",
       "      <td>371.718376</td>\n",
       "    </tr>\n",
       "    <tr>\n",
       "      <th>5928</th>\n",
       "      <td>-126.073707</td>\n",
       "      <td>373.431199</td>\n",
       "    </tr>\n",
       "  </tbody>\n",
       "</table>\n",
       "<p>252 rows × 2 columns</p>\n",
       "</div>"
      ],
      "text/plain": [
       "      lower preco  upper preco\n",
       "5677    32.941973    35.434114\n",
       "5678    33.010378    36.534797\n",
       "5679    32.299898    36.616411\n",
       "5680    32.620830    37.605110\n",
       "5681    32.650531    38.223126\n",
       "...           ...          ...\n",
       "5924  -121.219636   366.848650\n",
       "5925  -122.922212   368.030206\n",
       "5926  -123.747521   370.072184\n",
       "5927  -124.952064   371.718376\n",
       "5928  -126.073707   373.431199\n",
       "\n",
       "[252 rows x 2 columns]"
      ]
     },
     "execution_count": 35,
     "metadata": {},
     "output_type": "execute_result"
    }
   ],
   "source": [
    "intervalo_confianca_forecast"
   ]
  },
  {
   "cell_type": "code",
   "execution_count": 36,
   "id": "73579cfb",
   "metadata": {},
   "outputs": [
    {
     "data": {
      "text/plain": [
       "122.55399658846963"
      ]
     },
     "execution_count": 36,
     "metadata": {},
     "output_type": "execute_result"
    }
   ],
   "source": [
    "forecast_medio[5925]"
   ]
  },
  {
   "cell_type": "code",
   "execution_count": 37,
   "id": "f95ef5d2",
   "metadata": {},
   "outputs": [],
   "source": [
    "datas_forecast = np.asarray(forecast_medio.index)\n",
    "pred_dates=np.asarray(predicao_media.index)"
   ]
  },
  {
   "cell_type": "code",
   "execution_count": 38,
   "id": "7197cbab",
   "metadata": {
    "scrolled": false
   },
   "outputs": [
    {
     "data": {
      "image/png": "[encoded data removed]",
      "text/plain": [
       "<Figure size 720x432 with 1 Axes>"
      ]
     },
     "metadata": {
      "needs_background": "light"
     },
     "output_type": "display_data"
    }
   ],
   "source": [
    "dates=np.asarray(df.index)\n",
    "plt.figure(figsize=(10,6))\n",
    "plt.plot(datas_forecast,forecast_medio.values,color='green',label='forecast')\n",
    "plt.fill_between(datas_forecast, intervalo_abaixo_f, intervalo_acima_f, color='lightgreen')\n",
    "\n",
    "plt.plot(datas_previsao,predicao_media.values,color='red',label='prediction')\n",
    "plt.fill_between(datas_previsao, limites_abaixo, limites_acima, color='pink')\n",
    "\n",
    "plt.plot(dates,df.values, label='real')\n",
    "plt.legend(loc='upper left')\n",
    "plt.show()"
   ]
  }
 ],
 "metadata": {
  "kernelspec": {
   "display_name": "Python 3.9.12 ('econometria')",
   "language": "python",
   "name": "python3"
  },
  "language_info": {
   "codemirror_mode": {
    "name": "ipython",
    "version": 3
   },
   "file_extension": ".py",
   "mimetype": "text/x-python",
   "name": "python",
   "nbconvert_exporter": "python",
   "pygments_lexer": "ipython3",
   "version": "3.9.12"
  },
  "vscode": {
   "interpreter": {
    "hash": "2d77b586cfa25f3cadafc2a7d9d2ffb1689fffb3b5bbb5f99a0b413248eba82d"
   }
  }
 },
 "nbformat": 4,
 "nbformat_minor": 5
}
