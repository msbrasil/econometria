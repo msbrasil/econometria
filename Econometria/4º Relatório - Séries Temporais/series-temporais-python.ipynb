{
 "cells": [
  {
   "cell_type": "markdown",
   "id": "d0f8143f",
   "metadata": {},
   "source": [
    "# Séries Temporais - Live Let's Data de 10/09/2021"
   ]
  },
  {
   "cell_type": "code",
   "execution_count": 2,
   "id": "3e083474",
   "metadata": {},
   "outputs": [],
   "source": [
    "# Para importar database do Kaggle, deve criar usuário no Kaggle e gerar o token de\n",
    "# autenticação\n",
    "\n",
    "import pandas as pd\n",
    "import numpy as np\n",
    "from matplotlib import pyplot as plt\n",
    "\n",
    "from pmdarima import auto_arima\n",
    "from statsmodels.tsa.arima.model import ARIMA\n",
    "\n",
    "from xgboost import XGBRegressor"
   ]
  },
  {
   "cell_type": "code",
   "execution_count": 9,
   "id": "63690b9b",
   "metadata": {},
   "outputs": [
    {
     "data": {
      "text/html": [
       "<div>\n",
       "<style scoped>\n",
       "    .dataframe tbody tr th:only-of-type {\n",
       "        vertical-align: middle;\n",
       "    }\n",
       "\n",
       "    .dataframe tbody tr th {\n",
       "        vertical-align: top;\n",
       "    }\n",
       "\n",
       "    .dataframe thead th {\n",
       "        text-align: right;\n",
       "    }\n",
       "</style>\n",
       "<table border=\"1\" class=\"dataframe\">\n",
       "  <thead>\n",
       "    <tr style=\"text-align: right;\">\n",
       "      <th></th>\n",
       "      <th>date</th>\n",
       "      <th>close</th>\n",
       "    </tr>\n",
       "  </thead>\n",
       "  <tbody>\n",
       "    <tr>\n",
       "      <th>5669</th>\n",
       "      <td>2022-07-26</td>\n",
       "      <td>31.010000</td>\n",
       "    </tr>\n",
       "    <tr>\n",
       "      <th>5670</th>\n",
       "      <td>2022-07-27</td>\n",
       "      <td>31.350000</td>\n",
       "    </tr>\n",
       "    <tr>\n",
       "      <th>5671</th>\n",
       "      <td>2022-07-28</td>\n",
       "      <td>32.290001</td>\n",
       "    </tr>\n",
       "    <tr>\n",
       "      <th>5672</th>\n",
       "      <td>2022-07-29</td>\n",
       "      <td>34.150002</td>\n",
       "    </tr>\n",
       "    <tr>\n",
       "      <th>5673</th>\n",
       "      <td>2022-08-01</td>\n",
       "      <td>33.560001</td>\n",
       "    </tr>\n",
       "  </tbody>\n",
       "</table>\n",
       "</div>"
      ],
      "text/plain": [
       "           date      close\n",
       "5669 2022-07-26  31.010000\n",
       "5670 2022-07-27  31.350000\n",
       "5671 2022-07-28  32.290001\n",
       "5672 2022-07-29  34.150002\n",
       "5673 2022-08-01  33.560001"
      ]
     },
     "execution_count": 9,
     "metadata": {},
     "output_type": "execute_result"
    }
   ],
   "source": [
    "# vamos importar a base de produção de energia elétrica\n",
    "df = pd.read_csv('petr4.csv', parse_dates=['date'])\n",
    "df.tail()"
   ]
  },
  {
   "cell_type": "code",
   "execution_count": 10,
   "id": "6a51ed36",
   "metadata": {},
   "outputs": [],
   "source": [
    "df.set_index('date', inplace=True)"
   ]
  },
  {
   "cell_type": "code",
   "execution_count": 11,
   "id": "c1b6e5d1",
   "metadata": {},
   "outputs": [
    {
     "data": {
      "text/html": [
       "<div>\n",
       "<style scoped>\n",
       "    .dataframe tbody tr th:only-of-type {\n",
       "        vertical-align: middle;\n",
       "    }\n",
       "\n",
       "    .dataframe tbody tr th {\n",
       "        vertical-align: top;\n",
       "    }\n",
       "\n",
       "    .dataframe thead th {\n",
       "        text-align: right;\n",
       "    }\n",
       "</style>\n",
       "<table border=\"1\" class=\"dataframe\">\n",
       "  <thead>\n",
       "    <tr style=\"text-align: right;\">\n",
       "      <th></th>\n",
       "      <th>close</th>\n",
       "    </tr>\n",
       "    <tr>\n",
       "      <th>date</th>\n",
       "      <th></th>\n",
       "    </tr>\n",
       "  </thead>\n",
       "  <tbody>\n",
       "    <tr>\n",
       "      <th>2000-01-03</th>\n",
       "      <td>5.875000</td>\n",
       "    </tr>\n",
       "    <tr>\n",
       "      <th>2000-01-04</th>\n",
       "      <td>5.550000</td>\n",
       "    </tr>\n",
       "    <tr>\n",
       "      <th>2000-01-05</th>\n",
       "      <td>5.494000</td>\n",
       "    </tr>\n",
       "    <tr>\n",
       "      <th>2000-01-06</th>\n",
       "      <td>5.475000</td>\n",
       "    </tr>\n",
       "    <tr>\n",
       "      <th>2000-01-07</th>\n",
       "      <td>5.500000</td>\n",
       "    </tr>\n",
       "    <tr>\n",
       "      <th>...</th>\n",
       "      <td>...</td>\n",
       "    </tr>\n",
       "    <tr>\n",
       "      <th>2022-07-26</th>\n",
       "      <td>31.010000</td>\n",
       "    </tr>\n",
       "    <tr>\n",
       "      <th>2022-07-27</th>\n",
       "      <td>31.350000</td>\n",
       "    </tr>\n",
       "    <tr>\n",
       "      <th>2022-07-28</th>\n",
       "      <td>32.290001</td>\n",
       "    </tr>\n",
       "    <tr>\n",
       "      <th>2022-07-29</th>\n",
       "      <td>34.150002</td>\n",
       "    </tr>\n",
       "    <tr>\n",
       "      <th>2022-08-01</th>\n",
       "      <td>33.560001</td>\n",
       "    </tr>\n",
       "  </tbody>\n",
       "</table>\n",
       "<p>5674 rows × 1 columns</p>\n",
       "</div>"
      ],
      "text/plain": [
       "                close\n",
       "date                 \n",
       "2000-01-03   5.875000\n",
       "2000-01-04   5.550000\n",
       "2000-01-05   5.494000\n",
       "2000-01-06   5.475000\n",
       "2000-01-07   5.500000\n",
       "...               ...\n",
       "2022-07-26  31.010000\n",
       "2022-07-27  31.350000\n",
       "2022-07-28  32.290001\n",
       "2022-07-29  34.150002\n",
       "2022-08-01  33.560001\n",
       "\n",
       "[5674 rows x 1 columns]"
      ]
     },
     "execution_count": 11,
     "metadata": {},
     "output_type": "execute_result"
    }
   ],
   "source": [
    "df"
   ]
  },
  {
   "cell_type": "code",
   "execution_count": 12,
   "id": "d54cb713",
   "metadata": {},
   "outputs": [],
   "source": [
    "petrobras = df.resample('1M').mean()\n",
    "petrobras.index = pd.to_datetime(petrobras.index)\n",
    "petrobras.index = petrobras.index.map(lambda x: x.strftime('%Y-%m'))"
   ]
  },
  {
   "cell_type": "code",
   "execution_count": 13,
   "id": "3de1f1f9",
   "metadata": {},
   "outputs": [
    {
     "data": {
      "text/plain": [
       "(Timestamp('2000-01-03 00:00:00'), Timestamp('2022-08-01 00:00:00'))"
      ]
     },
     "execution_count": 13,
     "metadata": {},
     "output_type": "execute_result"
    }
   ],
   "source": [
    "# Quando começam e terminam os dados?\n",
    "df.index.min(), df.index.max()"
   ]
  },
  {
   "cell_type": "code",
   "execution_count": 14,
   "id": "bb211b81",
   "metadata": {},
   "outputs": [],
   "source": [
    "df.columns = ['preco']"
   ]
  },
  {
   "cell_type": "code",
   "execution_count": 15,
   "id": "c2cbf5ff",
   "metadata": {},
   "outputs": [
    {
     "data": {
      "text/plain": [
       "<AxesSubplot:xlabel='date'>"
      ]
     },
     "execution_count": 15,
     "metadata": {},
     "output_type": "execute_result"
    },
    {
     "data": {
      "image/png": "[encoded data removed]",
      "text/plain": [
       "<Figure size 720x432 with 1 Axes>"
      ]
     },
     "metadata": {
      "needs_background": "light"
     },
     "output_type": "display_data"
    }
   ],
   "source": [
    "# Vamos dar uma olhada no gráfico de consumo x anos\n",
    "df['preco'].plot(figsize=(10,6))"
   ]
  },
  {
   "cell_type": "markdown",
   "id": "840a0d25",
   "metadata": {},
   "source": [
    "### Prevendo com ARIMA\n",
    "\n",
    "notebook referencia:\n",
    "\n",
    "https://www.kaggle.com/ludovicocuoghi/electric-production-forecast-lstm-sarima"
   ]
  },
  {
   "cell_type": "code",
   "execution_count": 16,
   "id": "a1154dfe",
   "metadata": {},
   "outputs": [
    {
     "data": {
      "text/plain": [
       "preco    0\n",
       "dtype: int64"
      ]
     },
     "execution_count": 16,
     "metadata": {},
     "output_type": "execute_result"
    }
   ],
   "source": [
    "df.isna().sum()"
   ]
  },
  {
   "cell_type": "code",
   "execution_count": 19,
   "id": "bc5fbc04",
   "metadata": {},
   "outputs": [
    {
     "data": {
      "text/plain": [
       "<Figure size 576x432 with 0 Axes>"
      ]
     },
     "metadata": {},
     "output_type": "display_data"
    },
    {
     "data": {
      "image/png": "[encoded data removed]",
      "text/plain": [
       "<Figure size 432x288 with 4 Axes>"
      ]
     },
     "metadata": {
      "needs_background": "light"
     },
     "output_type": "display_data"
    }
   ],
   "source": [
    "# Primeiro, vamos decompor a série pra avaliar tendência\n",
    "# Sazonalidade e resíduo\n",
    "from statsmodels.tsa.seasonal import seasonal_decompose\n",
    "\n",
    "resultado = seasonal_decompose(df, model='additive', period=252, extrapolate_trend = 'freq')\n",
    "\n",
    "fig = plt.figure(figsize=(8, 6))  \n",
    "fig = resultado.plot()"
   ]
  },
  {
   "cell_type": "code",
   "execution_count": null,
   "id": "7cc95e9f",
   "metadata": {},
   "outputs": [],
   "source": []
  },
  {
   "cell_type": "markdown",
   "id": "401f15ce",
   "metadata": {},
   "source": [
    "#### Teste de estacionariedade"
   ]
  },
  {
   "cell_type": "code",
   "execution_count": 20,
   "id": "7259e50f",
   "metadata": {},
   "outputs": [
    {
     "name": "stdout",
     "output_type": "stream",
     "text": [
      "Teste ADF:-2.223776072528246\n",
      "p-valor:0.19772954948194316\n"
     ]
    }
   ],
   "source": [
    "# Teste de estacionariedade. \n",
    "# A hipótese nula é que a série não é estacionária\n",
    "# Ou seja, se o p-valor for menor que 0,05, rejeitamos\n",
    "# que a série não é estacionária. Caso seja maior, não podemos\n",
    "# descartar que a série não é estacionária\n",
    "from statsmodels.tsa.stattools import adfuller\n",
    "\n",
    "result=adfuller(df['preco'].dropna())\n",
    "print(f'Teste ADF:{result[0]}')\n",
    "print(f'p-valor:{result[1]}')"
   ]
  },
  {
   "cell_type": "markdown",
   "id": "6a33eda5",
   "metadata": {},
   "source": [
    "#### Ou seja, a série não é realmente estacionária (p-valor >0.05, não podemos rejeitar a hipótese nula)"
   ]
  },
  {
   "cell_type": "code",
   "execution_count": 21,
   "id": "e211b8d9",
   "metadata": {
    "scrolled": true
   },
   "outputs": [
    {
     "name": "stdout",
     "output_type": "stream",
     "text": [
      "Performing stepwise search to minimize aic\n",
      " ARIMA(1,1,1)(1,1,1)[6]             : AIC=inf, Time=17.25 sec\n",
      " ARIMA(0,1,0)(0,1,0)[6]             : AIC=13236.378, Time=0.41 sec\n",
      " ARIMA(1,1,0)(1,1,0)[6]             : AIC=11645.099, Time=1.09 sec\n",
      " ARIMA(0,1,1)(0,1,1)[6]             : AIC=inf, Time=4.08 sec\n",
      " ARIMA(1,1,0)(0,1,0)[6]             : AIC=13234.310, Time=0.31 sec\n",
      " ARIMA(1,1,0)(2,1,0)[6]             : AIC=10961.087, Time=1.96 sec\n",
      " ARIMA(1,1,0)(2,1,1)[6]             : AIC=inf, Time=12.73 sec\n",
      " ARIMA(1,1,0)(1,1,1)[6]             : AIC=inf, Time=10.09 sec\n",
      " ARIMA(0,1,0)(2,1,0)[6]             : AIC=10959.369, Time=1.40 sec\n",
      " ARIMA(0,1,0)(1,1,0)[6]             : AIC=11644.204, Time=0.61 sec\n",
      " ARIMA(0,1,0)(2,1,1)[6]             : AIC=inf, Time=10.68 sec\n",
      " ARIMA(0,1,0)(1,1,1)[6]             : AIC=inf, Time=5.31 sec\n",
      " ARIMA(0,1,1)(2,1,0)[6]             : AIC=10961.077, Time=1.68 sec\n",
      " ARIMA(1,1,1)(2,1,0)[6]             : AIC=inf, Time=12.02 sec\n",
      " ARIMA(0,1,0)(2,1,0)[6] intercept   : AIC=10961.354, Time=3.80 sec\n",
      "\n",
      "Best model:  ARIMA(0,1,0)(2,1,0)[6]          \n",
      "Total fit time: 83.454 seconds\n"
     ]
    }
   ],
   "source": [
    "# Auto ARIMA nos ajuda a buscar os melhores parâmetros\n",
    "fit_arima = auto_arima(df, d=1, start_p=1, start_q=1, max_p=3, max_q=3,\n",
    "                    seasonal=True, \n",
    "                           m=6, \n",
    "                           D=1, \n",
    "                           start_P=1, \n",
    "                           start_Q=1, \n",
    "                           max_P=2, \n",
    "                           max_Q=2, \n",
    "                           information_criterion='aic',\n",
    "                           trace=True, \n",
    "                           error_action='ignore', \n",
    "                           stepwise=True)"
   ]
  },
  {
   "cell_type": "code",
   "execution_count": 22,
   "id": "18445027",
   "metadata": {
    "scrolled": true
   },
   "outputs": [
    {
     "name": "stderr",
     "output_type": "stream",
     "text": [
      "/home/matheus/miniconda3/envs/econometria/lib/python3.9/site-packages/statsmodels/tsa/base/tsa_model.py:471: ValueWarning: A date index has been provided, but it has no associated frequency information and so will be ignored when e.g. forecasting.\n",
      "  self._init_dates(dates, freq)\n",
      "/home/matheus/miniconda3/envs/econometria/lib/python3.9/site-packages/statsmodels/tsa/base/tsa_model.py:471: ValueWarning: A date index has been provided, but it has no associated frequency information and so will be ignored when e.g. forecasting.\n",
      "  self._init_dates(dates, freq)\n"
     ]
    },
    {
     "name": "stdout",
     "output_type": "stream",
     "text": [
      "RUNNING THE L-BFGS-B CODE\n",
      "\n",
      "           * * *\n",
      "\n",
      "Machine precision = 2.220D-16\n",
      " N =            3     M =           10\n",
      "\n",
      "At X0         0 variables are exactly at the bounds\n",
      "\n",
      "At iterate    0    f=  9.65226D-01    |proj g|=  3.25914D-03\n"
     ]
    },
    {
     "name": "stderr",
     "output_type": "stream",
     "text": [
      " This problem is unconstrained.\n"
     ]
    },
    {
     "name": "stdout",
     "output_type": "stream",
     "text": [
      "\n",
      "At iterate    5    f=  9.65225D-01    |proj g|=  4.11132D-06\n",
      "\n",
      "           * * *\n",
      "\n",
      "Tit   = total number of iterations\n",
      "Tnf   = total number of function evaluations\n",
      "Tnint = total number of segments explored during Cauchy searches\n",
      "Skip  = number of BFGS updates skipped\n",
      "Nact  = number of active bounds at final generalized Cauchy point\n",
      "Projg = norm of the final projected gradient\n",
      "F     = final function value\n",
      "\n",
      "           * * *\n",
      "\n",
      "   N    Tit     Tnf  Tnint  Skip  Nact     Projg        F\n",
      "    3      5      7      1     0     0   4.111D-06   9.652D-01\n",
      "  F =  0.96522464520495099     \n",
      "\n",
      "CONVERGENCE: NORM_OF_PROJECTED_GRADIENT_<=_PGTOL            \n"
     ]
    }
   ],
   "source": [
    "# Agora que sabemos os melhores parâmetros, vamos criar um modelo SARIMAX \n",
    "# (versão do arima com parametros para sazonalidade)\n",
    "\n",
    "from statsmodels.tsa.statespace.sarimax import SARIMAX\n",
    "\n",
    "model = SARIMAX(df,order=(0,1,0),  seasonal_order=(2,1,0,6))\n",
    "resultado_sarimax = model.fit()"
   ]
  },
  {
   "cell_type": "code",
   "execution_count": 23,
   "id": "a0ae1e6f",
   "metadata": {},
   "outputs": [
    {
     "data": {
      "text/html": [
       "<table class=\"simpletable\">\n",
       "<caption>SARIMAX Results</caption>\n",
       "<tr>\n",
       "  <th>Dep. Variable:</th>               <td>preco</td>             <th>  No. Observations:  </th>   <td>5674</td>   \n",
       "</tr>\n",
       "<tr>\n",
       "  <th>Model:</th>           <td>SARIMAX(0, 1, 0)x(2, 1, 0, 6)</td> <th>  Log Likelihood     </th> <td>-5476.685</td>\n",
       "</tr>\n",
       "<tr>\n",
       "  <th>Date:</th>                  <td>Mon, 01 Aug 2022</td>        <th>  AIC                </th> <td>10959.369</td>\n",
       "</tr>\n",
       "<tr>\n",
       "  <th>Time:</th>                      <td>21:35:09</td>            <th>  BIC                </th> <td>10979.297</td>\n",
       "</tr>\n",
       "<tr>\n",
       "  <th>Sample:</th>                        <td>0</td>               <th>  HQIC               </th> <td>10966.309</td>\n",
       "</tr>\n",
       "<tr>\n",
       "  <th></th>                            <td> - 5674</td>            <th>                     </th>     <td> </td>    \n",
       "</tr>\n",
       "<tr>\n",
       "  <th>Covariance Type:</th>              <td>opg</td>              <th>                     </th>     <td> </td>    \n",
       "</tr>\n",
       "</table>\n",
       "<table class=\"simpletable\">\n",
       "<tr>\n",
       "      <td></td>        <th>coef</th>     <th>std err</th>      <th>z</th>      <th>P>|z|</th>  <th>[0.025</th>    <th>0.975]</th>  \n",
       "</tr>\n",
       "<tr>\n",
       "  <th>ar.S.L6</th>  <td>   -0.6630</td> <td>    0.007</td> <td>  -98.544</td> <td> 0.000</td> <td>   -0.676</td> <td>   -0.650</td>\n",
       "</tr>\n",
       "<tr>\n",
       "  <th>ar.S.L12</th> <td>   -0.3380</td> <td>    0.006</td> <td>  -53.398</td> <td> 0.000</td> <td>   -0.350</td> <td>   -0.326</td>\n",
       "</tr>\n",
       "<tr>\n",
       "  <th>sigma2</th>   <td>    0.4043</td> <td>    0.003</td> <td>  136.115</td> <td> 0.000</td> <td>    0.398</td> <td>    0.410</td>\n",
       "</tr>\n",
       "</table>\n",
       "<table class=\"simpletable\">\n",
       "<tr>\n",
       "  <th>Ljung-Box (L1) (Q):</th>     <td>0.28</td> <th>  Jarque-Bera (JB):  </th> <td>32032.92</td>\n",
       "</tr>\n",
       "<tr>\n",
       "  <th>Prob(Q):</th>                <td>0.60</td> <th>  Prob(JB):          </th>   <td>0.00</td>  \n",
       "</tr>\n",
       "<tr>\n",
       "  <th>Heteroskedasticity (H):</th> <td>6.76</td> <th>  Skew:              </th>   <td>-0.45</td> \n",
       "</tr>\n",
       "<tr>\n",
       "  <th>Prob(H) (two-sided):</th>    <td>0.00</td> <th>  Kurtosis:          </th>   <td>14.61</td> \n",
       "</tr>\n",
       "</table><br/><br/>Warnings:<br/>[1] Covariance matrix calculated using the outer product of gradients (complex-step)."
      ],
      "text/plain": [
       "<class 'statsmodels.iolib.summary.Summary'>\n",
       "\"\"\"\n",
       "                                     SARIMAX Results                                     \n",
       "=========================================================================================\n",
       "Dep. Variable:                             preco   No. Observations:                 5674\n",
       "Model:             SARIMAX(0, 1, 0)x(2, 1, 0, 6)   Log Likelihood               -5476.685\n",
       "Date:                           Mon, 01 Aug 2022   AIC                          10959.369\n",
       "Time:                                   21:35:09   BIC                          10979.297\n",
       "Sample:                                        0   HQIC                         10966.309\n",
       "                                          - 5674                                         \n",
       "Covariance Type:                             opg                                         \n",
       "==============================================================================\n",
       "                 coef    std err          z      P>|z|      [0.025      0.975]\n",
       "------------------------------------------------------------------------------\n",
       "ar.S.L6       -0.6630      0.007    -98.544      0.000      -0.676      -0.650\n",
       "ar.S.L12      -0.3380      0.006    -53.398      0.000      -0.350      -0.326\n",
       "sigma2         0.4043      0.003    136.115      0.000       0.398       0.410\n",
       "===================================================================================\n",
       "Ljung-Box (L1) (Q):                   0.28   Jarque-Bera (JB):             32032.92\n",
       "Prob(Q):                              0.60   Prob(JB):                         0.00\n",
       "Heteroskedasticity (H):               6.76   Skew:                            -0.45\n",
       "Prob(H) (two-sided):                  0.00   Kurtosis:                        14.61\n",
       "===================================================================================\n",
       "\n",
       "Warnings:\n",
       "[1] Covariance matrix calculated using the outer product of gradients (complex-step).\n",
       "\"\"\""
      ]
     },
     "execution_count": 23,
     "metadata": {},
     "output_type": "execute_result"
    }
   ],
   "source": [
    "# resultados do modelo SARIMAX(2,1,2)\n",
    "resultado_sarimax.summary()"
   ]
  },
  {
   "cell_type": "code",
   "execution_count": 24,
   "id": "c29d65f7",
   "metadata": {},
   "outputs": [],
   "source": [
    "# Vamos realizar um \"backtesting\" com predições de valores dos 12 meses anteriores\n",
    "predicoes = resultado_sarimax.get_prediction(start=-252)\n",
    "predicao_media = predicoes.predicted_mean"
   ]
  },
  {
   "cell_type": "code",
   "execution_count": 25,
   "id": "464a65ef",
   "metadata": {},
   "outputs": [
    {
     "data": {
      "text/plain": [
       "(26.684278003072375, 29.176725120884033)"
      ]
     },
     "execution_count": 25,
     "metadata": {},
     "output_type": "execute_result"
    }
   ],
   "source": [
    "# intervalo de confiança\n",
    "\n",
    "intervalo_confianca = predicoes.conf_int()\n",
    "limites_abaixo = intervalo_confianca.iloc[:,0]\n",
    "limites_acima = intervalo_confianca.iloc[:,1]\n",
    "\n",
    "limites_abaixo[0], limites_acima[0]"
   ]
  },
  {
   "cell_type": "code",
   "execution_count": 26,
   "id": "a3be25e2",
   "metadata": {},
   "outputs": [
    {
     "data": {
      "text/plain": [
       "27.930501561978204"
      ]
     },
     "execution_count": 26,
     "metadata": {},
     "output_type": "execute_result"
    }
   ],
   "source": [
    "predicao_media[0]"
   ]
  },
  {
   "cell_type": "code",
   "execution_count": 27,
   "id": "2c80179c",
   "metadata": {},
   "outputs": [],
   "source": [
    "datas_previsao = np.asarray(predicao_media.index)\n",
    "datas = np.asarray(df.index)"
   ]
  },
  {
   "cell_type": "code",
   "execution_count": 28,
   "id": "884da51b",
   "metadata": {},
   "outputs": [
    {
     "data": {
      "image/png": "[encoded data removed]",
      "text/plain": [
       "<Figure size 720x432 with 1 Axes>"
      ]
     },
     "metadata": {
      "needs_background": "light"
     },
     "output_type": "display_data"
    }
   ],
   "source": [
    "plt.figure(figsize=(10,6))\n",
    "plt.plot(datas_previsao,predicao_media.values,color='red',label='prediction')\n",
    "plt.fill_between(datas_previsao, limites_abaixo, limites_acima, color='red')\n",
    "plt.plot(datas, df.values, label='real')\n",
    "plt.legend()\n",
    "plt.show()"
   ]
  },
  {
   "cell_type": "code",
   "execution_count": 29,
   "id": "5dd2d8ac",
   "metadata": {},
   "outputs": [
    {
     "name": "stdout",
     "output_type": "stream",
     "text": [
      "0.9148447708558678\n"
     ]
    }
   ],
   "source": [
    "from sklearn.metrics import mean_squared_error\n",
    "from math import sqrt\n",
    "\n",
    "rmse_sarima = sqrt(mean_squared_error(df[-252:].values,predicao_media.values))\n",
    "print(rmse_sarima)"
   ]
  },
  {
   "cell_type": "markdown",
   "id": "e28c9dd6",
   "metadata": {},
   "source": [
    "#### FORECAST COM ARIMA"
   ]
  },
  {
   "cell_type": "code",
   "execution_count": 30,
   "id": "f5fa36db",
   "metadata": {},
   "outputs": [
    {
     "name": "stderr",
     "output_type": "stream",
     "text": [
      "/home/matheus/miniconda3/envs/econometria/lib/python3.9/site-packages/statsmodels/tsa/base/tsa_model.py:834: ValueWarning: No supported index is available. Prediction results will be given with an integer index beginning at `start`.\n",
      "  return get_prediction_index(\n"
     ]
    },
    {
     "data": {
      "text/plain": [
       "252"
      ]
     },
     "execution_count": 30,
     "metadata": {},
     "output_type": "execute_result"
    }
   ],
   "source": [
    "# Forecast pra 12 values\n",
    "\n",
    "forecast = resultado_sarimax.get_forecast(steps=252)\n",
    "forecast_medio = forecast.predicted_mean\n",
    "forecast_medio.size"
   ]
  },
  {
   "cell_type": "code",
   "execution_count": 31,
   "id": "ba27d8ff",
   "metadata": {},
   "outputs": [
    {
     "data": {
      "text/plain": [
       "(-103.75708694267104, 395.86162121970347)"
      ]
     },
     "execution_count": 31,
     "metadata": {},
     "output_type": "execute_result"
    }
   ],
   "source": [
    "intervalo_confianca_forecast = forecast.conf_int()\n",
    "intervalo_abaixo_f = intervalo_confianca_forecast.iloc[:,0]\n",
    "intervalo_acima_f = intervalo_confianca_forecast.iloc[:,1]\n",
    "\n",
    "intervalo_abaixo_f[5925], intervalo_acima_f[5925]"
   ]
  },
  {
   "cell_type": "code",
   "execution_count": 32,
   "id": "5624bc3e",
   "metadata": {},
   "outputs": [
    {
     "data": {
      "text/html": [
       "<div>\n",
       "<style scoped>\n",
       "    .dataframe tbody tr th:only-of-type {\n",
       "        vertical-align: middle;\n",
       "    }\n",
       "\n",
       "    .dataframe tbody tr th {\n",
       "        vertical-align: top;\n",
       "    }\n",
       "\n",
       "    .dataframe thead th {\n",
       "        text-align: right;\n",
       "    }\n",
       "</style>\n",
       "<table border=\"1\" class=\"dataframe\">\n",
       "  <thead>\n",
       "    <tr style=\"text-align: right;\">\n",
       "      <th></th>\n",
       "      <th>lower preco</th>\n",
       "      <th>upper preco</th>\n",
       "    </tr>\n",
       "  </thead>\n",
       "  <tbody>\n",
       "    <tr>\n",
       "      <th>5674</th>\n",
       "      <td>33.201984</td>\n",
       "      <td>35.694431</td>\n",
       "    </tr>\n",
       "    <tr>\n",
       "      <th>5675</th>\n",
       "      <td>33.106425</td>\n",
       "      <td>36.631278</td>\n",
       "    </tr>\n",
       "    <tr>\n",
       "      <th>5676</th>\n",
       "      <td>32.966121</td>\n",
       "      <td>37.283166</td>\n",
       "    </tr>\n",
       "    <tr>\n",
       "      <th>5677</th>\n",
       "      <td>32.800407</td>\n",
       "      <td>37.785301</td>\n",
       "    </tr>\n",
       "    <tr>\n",
       "      <th>5678</th>\n",
       "      <td>33.091039</td>\n",
       "      <td>38.664320</td>\n",
       "    </tr>\n",
       "    <tr>\n",
       "      <th>...</th>\n",
       "      <td>...</td>\n",
       "      <td>...</td>\n",
       "    </tr>\n",
       "    <tr>\n",
       "      <th>5921</th>\n",
       "      <td>-99.332482</td>\n",
       "      <td>388.846982</td>\n",
       "    </tr>\n",
       "    <tr>\n",
       "      <th>5922</th>\n",
       "      <td>-100.436427</td>\n",
       "      <td>390.627831</td>\n",
       "    </tr>\n",
       "    <tr>\n",
       "      <th>5923</th>\n",
       "      <td>-101.476563</td>\n",
       "      <td>392.455640</td>\n",
       "    </tr>\n",
       "    <tr>\n",
       "      <th>5924</th>\n",
       "      <td>-102.019023</td>\n",
       "      <td>394.764569</td>\n",
       "    </tr>\n",
       "    <tr>\n",
       "      <th>5925</th>\n",
       "      <td>-103.757087</td>\n",
       "      <td>395.861621</td>\n",
       "    </tr>\n",
       "  </tbody>\n",
       "</table>\n",
       "<p>252 rows × 2 columns</p>\n",
       "</div>"
      ],
      "text/plain": [
       "      lower preco  upper preco\n",
       "5674    33.201984    35.694431\n",
       "5675    33.106425    36.631278\n",
       "5676    32.966121    37.283166\n",
       "5677    32.800407    37.785301\n",
       "5678    33.091039    38.664320\n",
       "...           ...          ...\n",
       "5921   -99.332482   388.846982\n",
       "5922  -100.436427   390.627831\n",
       "5923  -101.476563   392.455640\n",
       "5924  -102.019023   394.764569\n",
       "5925  -103.757087   395.861621\n",
       "\n",
       "[252 rows x 2 columns]"
      ]
     },
     "execution_count": 32,
     "metadata": {},
     "output_type": "execute_result"
    }
   ],
   "source": [
    "intervalo_confianca_forecast"
   ]
  },
  {
   "cell_type": "code",
   "execution_count": 33,
   "id": "73579cfb",
   "metadata": {},
   "outputs": [
    {
     "data": {
      "text/plain": [
       "146.0522671385162"
      ]
     },
     "execution_count": 33,
     "metadata": {},
     "output_type": "execute_result"
    }
   ],
   "source": [
    "forecast_medio[5925]"
   ]
  },
  {
   "cell_type": "code",
   "execution_count": 34,
   "id": "f95ef5d2",
   "metadata": {},
   "outputs": [],
   "source": [
    "datas_forecast = np.asarray(forecast_medio.index)\n",
    "pred_dates=np.asarray(predicao_media.index)"
   ]
  },
  {
   "cell_type": "code",
   "execution_count": 35,
   "id": "7197cbab",
   "metadata": {
    "scrolled": false
   },
   "outputs": [
    {
     "data": {
      "image/png": "[encoded data removed]",
      "text/plain": [
       "<Figure size 720x432 with 1 Axes>"
      ]
     },
     "metadata": {
      "needs_background": "light"
     },
     "output_type": "display_data"
    }
   ],
   "source": [
    "dates=np.asarray(df.index)\n",
    "plt.figure(figsize=(10,6))\n",
    "plt.plot(datas_forecast,forecast_medio.values,color='green',label='forecast')\n",
    "plt.fill_between(datas_forecast, intervalo_abaixo_f, intervalo_acima_f, color='lightgreen')\n",
    "\n",
    "plt.plot(datas_previsao,predicao_media.values,color='red',label='prediction')\n",
    "plt.fill_between(datas_previsao, limites_abaixo, limites_acima, color='pink')\n",
    "\n",
    "plt.plot(dates,df.values, label='real')\n",
    "plt.legend(loc='upper left')\n",
    "plt.show()"
   ]
  },
  {
   "cell_type": "markdown",
   "id": "d1a02ce7",
   "metadata": {},
   "source": [
    "### Prevendo com XGBoost"
   ]
  },
  {
   "cell_type": "code",
   "execution_count": 36,
   "id": "7d4e111b",
   "metadata": {},
   "outputs": [
    {
     "data": {
      "text/html": [
       "<div>\n",
       "<style scoped>\n",
       "    .dataframe tbody tr th:only-of-type {\n",
       "        vertical-align: middle;\n",
       "    }\n",
       "\n",
       "    .dataframe tbody tr th {\n",
       "        vertical-align: top;\n",
       "    }\n",
       "\n",
       "    .dataframe thead th {\n",
       "        text-align: right;\n",
       "    }\n",
       "</style>\n",
       "<table border=\"1\" class=\"dataframe\">\n",
       "  <thead>\n",
       "    <tr style=\"text-align: right;\">\n",
       "      <th></th>\n",
       "      <th>preco</th>\n",
       "    </tr>\n",
       "    <tr>\n",
       "      <th>date</th>\n",
       "      <th></th>\n",
       "    </tr>\n",
       "  </thead>\n",
       "  <tbody>\n",
       "    <tr>\n",
       "      <th>2000-01-03</th>\n",
       "      <td>5.875000</td>\n",
       "    </tr>\n",
       "    <tr>\n",
       "      <th>2000-01-04</th>\n",
       "      <td>5.550000</td>\n",
       "    </tr>\n",
       "    <tr>\n",
       "      <th>2000-01-05</th>\n",
       "      <td>5.494000</td>\n",
       "    </tr>\n",
       "    <tr>\n",
       "      <th>2000-01-06</th>\n",
       "      <td>5.475000</td>\n",
       "    </tr>\n",
       "    <tr>\n",
       "      <th>2000-01-07</th>\n",
       "      <td>5.500000</td>\n",
       "    </tr>\n",
       "    <tr>\n",
       "      <th>...</th>\n",
       "      <td>...</td>\n",
       "    </tr>\n",
       "    <tr>\n",
       "      <th>2022-07-26</th>\n",
       "      <td>31.010000</td>\n",
       "    </tr>\n",
       "    <tr>\n",
       "      <th>2022-07-27</th>\n",
       "      <td>31.350000</td>\n",
       "    </tr>\n",
       "    <tr>\n",
       "      <th>2022-07-28</th>\n",
       "      <td>32.290001</td>\n",
       "    </tr>\n",
       "    <tr>\n",
       "      <th>2022-07-29</th>\n",
       "      <td>34.150002</td>\n",
       "    </tr>\n",
       "    <tr>\n",
       "      <th>2022-08-01</th>\n",
       "      <td>33.560001</td>\n",
       "    </tr>\n",
       "  </tbody>\n",
       "</table>\n",
       "<p>5674 rows × 1 columns</p>\n",
       "</div>"
      ],
      "text/plain": [
       "                preco\n",
       "date                 \n",
       "2000-01-03   5.875000\n",
       "2000-01-04   5.550000\n",
       "2000-01-05   5.494000\n",
       "2000-01-06   5.475000\n",
       "2000-01-07   5.500000\n",
       "...               ...\n",
       "2022-07-26  31.010000\n",
       "2022-07-27  31.350000\n",
       "2022-07-28  32.290001\n",
       "2022-07-29  34.150002\n",
       "2022-08-01  33.560001\n",
       "\n",
       "[5674 rows x 1 columns]"
      ]
     },
     "execution_count": 36,
     "metadata": {},
     "output_type": "execute_result"
    }
   ],
   "source": [
    "df"
   ]
  },
  {
   "cell_type": "code",
   "execution_count": 37,
   "id": "7e179171",
   "metadata": {},
   "outputs": [
    {
     "data": {
      "text/plain": [
       "((4285, 1), (1389, 1))"
      ]
     },
     "execution_count": 37,
     "metadata": {},
     "output_type": "execute_result"
    }
   ],
   "source": [
    "treino = df.loc[df.index <= '2016-12-31']\n",
    "validacao = df.loc[df.index > '2016-12-31']\n",
    "\n",
    "treino.shape, validacao.shape"
   ]
  },
  {
   "cell_type": "code",
   "execution_count": 38,
   "id": "4a0b967d",
   "metadata": {},
   "outputs": [
    {
     "data": {
      "text/plain": [
       "(Timestamp('2000-01-03 00:00:00'), Timestamp('2016-12-29 00:00:00'))"
      ]
     },
     "execution_count": 38,
     "metadata": {},
     "output_type": "execute_result"
    }
   ],
   "source": [
    "treino.index.min(), treino.index.max()"
   ]
  },
  {
   "cell_type": "code",
   "execution_count": 39,
   "id": "643f7f42",
   "metadata": {},
   "outputs": [
    {
     "data": {
      "text/plain": [
       "(Timestamp('2017-01-02 00:00:00'), Timestamp('2022-08-01 00:00:00'))"
      ]
     },
     "execution_count": 39,
     "metadata": {},
     "output_type": "execute_result"
    }
   ],
   "source": [
    "validacao.index.min(), validacao.index.max()"
   ]
  },
  {
   "cell_type": "markdown",
   "id": "f3062c29",
   "metadata": {},
   "source": [
    "### Criando a variavel target e a lagged variable (que já é a consumo, certo?)"
   ]
  },
  {
   "cell_type": "code",
   "execution_count": 40,
   "id": "da3d3c20",
   "metadata": {},
   "outputs": [
    {
     "data": {
      "text/plain": [
       "date\n",
       "2000-01-03     5.875\n",
       "2000-01-04     5.550\n",
       "2000-01-05     5.494\n",
       "2000-01-06     5.475\n",
       "2000-01-07     5.500\n",
       "               ...  \n",
       "2016-12-23    14.240\n",
       "2016-12-26    14.420\n",
       "2016-12-27    14.410\n",
       "2016-12-28    14.780\n",
       "2016-12-29    14.870\n",
       "Name: preco, Length: 4285, dtype: float64"
      ]
     },
     "execution_count": 40,
     "metadata": {},
     "output_type": "execute_result"
    }
   ],
   "source": [
    "treino['preco']"
   ]
  },
  {
   "cell_type": "code",
   "execution_count": null,
   "id": "d57d90c0",
   "metadata": {},
   "outputs": [
    {
     "data": {
      "text/plain": [
       "DATE\n",
       "1985-01-01     70.6720\n",
       "1985-02-01     62.4502\n",
       "1985-03-01     57.4714\n",
       "1985-04-01     55.3151\n",
       "1985-05-01     58.0904\n",
       "                ...   \n",
       "2016-08-01    102.7637\n",
       "2016-09-01     91.4867\n",
       "2016-10-01     92.8900\n",
       "2016-11-01    112.7694\n",
       "2016-12-01         NaN\n",
       "Name: producao, Length: 384, dtype: float64"
      ]
     },
     "execution_count": 31,
     "metadata": {},
     "output_type": "execute_result"
    }
   ],
   "source": [
    "treino['preco'].shift(-1)"
   ]
  },
  {
   "cell_type": "code",
   "execution_count": null,
   "id": "76356d37",
   "metadata": {},
   "outputs": [
    {
     "name": "stderr",
     "output_type": "stream",
     "text": [
      "F:\\leon\\venvs\\live02_series_temporais\\lib\\site-packages\\ipykernel_launcher.py:1: SettingWithCopyWarning: \n",
      "A value is trying to be set on a copy of a slice from a DataFrame.\n",
      "Try using .loc[row_indexer,col_indexer] = value instead\n",
      "\n",
      "See the caveats in the documentation: https://pandas.pydata.org/pandas-docs/stable/user_guide/indexing.html#returning-a-view-versus-a-copy\n",
      "  \"\"\"Entry point for launching an IPython kernel.\n"
     ]
    },
    {
     "data": {
      "text/html": [
       "<div>\n",
       "<style scoped>\n",
       "    .dataframe tbody tr th:only-of-type {\n",
       "        vertical-align: middle;\n",
       "    }\n",
       "\n",
       "    .dataframe tbody tr th {\n",
       "        vertical-align: top;\n",
       "    }\n",
       "\n",
       "    .dataframe thead th {\n",
       "        text-align: right;\n",
       "    }\n",
       "</style>\n",
       "<table border=\"1\" class=\"dataframe\">\n",
       "  <thead>\n",
       "    <tr style=\"text-align: right;\">\n",
       "      <th></th>\n",
       "      <th>producao</th>\n",
       "      <th>target</th>\n",
       "    </tr>\n",
       "    <tr>\n",
       "      <th>DATE</th>\n",
       "      <th></th>\n",
       "      <th></th>\n",
       "    </tr>\n",
       "  </thead>\n",
       "  <tbody>\n",
       "    <tr>\n",
       "      <th>1985-01-01</th>\n",
       "      <td>72.5052</td>\n",
       "      <td>70.6720</td>\n",
       "    </tr>\n",
       "    <tr>\n",
       "      <th>1985-02-01</th>\n",
       "      <td>70.6720</td>\n",
       "      <td>62.4502</td>\n",
       "    </tr>\n",
       "    <tr>\n",
       "      <th>1985-03-01</th>\n",
       "      <td>62.4502</td>\n",
       "      <td>57.4714</td>\n",
       "    </tr>\n",
       "    <tr>\n",
       "      <th>1985-04-01</th>\n",
       "      <td>57.4714</td>\n",
       "      <td>55.3151</td>\n",
       "    </tr>\n",
       "    <tr>\n",
       "      <th>1985-05-01</th>\n",
       "      <td>55.3151</td>\n",
       "      <td>58.0904</td>\n",
       "    </tr>\n",
       "  </tbody>\n",
       "</table>\n",
       "</div>"
      ],
      "text/plain": [
       "            producao   target\n",
       "DATE                         \n",
       "1985-01-01   72.5052  70.6720\n",
       "1985-02-01   70.6720  62.4502\n",
       "1985-03-01   62.4502  57.4714\n",
       "1985-04-01   57.4714  55.3151\n",
       "1985-05-01   55.3151  58.0904"
      ]
     },
     "execution_count": 32,
     "metadata": {},
     "output_type": "execute_result"
    }
   ],
   "source": [
    "treino['target'] = treino['preco'].shift(-1)\n",
    "treino.head()"
   ]
  },
  {
   "cell_type": "code",
   "execution_count": null,
   "id": "570936e1",
   "metadata": {},
   "outputs": [
    {
     "data": {
      "text/html": [
       "<div>\n",
       "<style scoped>\n",
       "    .dataframe tbody tr th:only-of-type {\n",
       "        vertical-align: middle;\n",
       "    }\n",
       "\n",
       "    .dataframe tbody tr th {\n",
       "        vertical-align: top;\n",
       "    }\n",
       "\n",
       "    .dataframe thead th {\n",
       "        text-align: right;\n",
       "    }\n",
       "</style>\n",
       "<table border=\"1\" class=\"dataframe\">\n",
       "  <thead>\n",
       "    <tr style=\"text-align: right;\">\n",
       "      <th></th>\n",
       "      <th>producao</th>\n",
       "      <th>target</th>\n",
       "    </tr>\n",
       "    <tr>\n",
       "      <th>DATE</th>\n",
       "      <th></th>\n",
       "      <th></th>\n",
       "    </tr>\n",
       "  </thead>\n",
       "  <tbody>\n",
       "    <tr>\n",
       "      <th>2016-08-01</th>\n",
       "      <td>115.5159</td>\n",
       "      <td>102.7637</td>\n",
       "    </tr>\n",
       "    <tr>\n",
       "      <th>2016-09-01</th>\n",
       "      <td>102.7637</td>\n",
       "      <td>91.4867</td>\n",
       "    </tr>\n",
       "    <tr>\n",
       "      <th>2016-10-01</th>\n",
       "      <td>91.4867</td>\n",
       "      <td>92.8900</td>\n",
       "    </tr>\n",
       "    <tr>\n",
       "      <th>2016-11-01</th>\n",
       "      <td>92.8900</td>\n",
       "      <td>112.7694</td>\n",
       "    </tr>\n",
       "    <tr>\n",
       "      <th>2016-12-01</th>\n",
       "      <td>112.7694</td>\n",
       "      <td>NaN</td>\n",
       "    </tr>\n",
       "  </tbody>\n",
       "</table>\n",
       "</div>"
      ],
      "text/plain": [
       "            producao    target\n",
       "DATE                          \n",
       "2016-08-01  115.5159  102.7637\n",
       "2016-09-01  102.7637   91.4867\n",
       "2016-10-01   91.4867   92.8900\n",
       "2016-11-01   92.8900  112.7694\n",
       "2016-12-01  112.7694       NaN"
      ]
     },
     "execution_count": 33,
     "metadata": {},
     "output_type": "execute_result"
    }
   ],
   "source": [
    "treino.tail()"
   ]
  },
  {
   "cell_type": "code",
   "execution_count": null,
   "id": "625c5ba8",
   "metadata": {},
   "outputs": [
    {
     "data": {
      "text/html": [
       "<div>\n",
       "<style scoped>\n",
       "    .dataframe tbody tr th:only-of-type {\n",
       "        vertical-align: middle;\n",
       "    }\n",
       "\n",
       "    .dataframe tbody tr th {\n",
       "        vertical-align: top;\n",
       "    }\n",
       "\n",
       "    .dataframe thead th {\n",
       "        text-align: right;\n",
       "    }\n",
       "</style>\n",
       "<table border=\"1\" class=\"dataframe\">\n",
       "  <thead>\n",
       "    <tr style=\"text-align: right;\">\n",
       "      <th></th>\n",
       "      <th>producao</th>\n",
       "      <th>target</th>\n",
       "    </tr>\n",
       "    <tr>\n",
       "      <th>DATE</th>\n",
       "      <th></th>\n",
       "      <th></th>\n",
       "    </tr>\n",
       "  </thead>\n",
       "  <tbody>\n",
       "    <tr>\n",
       "      <th>2016-07-01</th>\n",
       "      <td>114.5397</td>\n",
       "      <td>115.5159</td>\n",
       "    </tr>\n",
       "    <tr>\n",
       "      <th>2016-08-01</th>\n",
       "      <td>115.5159</td>\n",
       "      <td>102.7637</td>\n",
       "    </tr>\n",
       "    <tr>\n",
       "      <th>2016-09-01</th>\n",
       "      <td>102.7637</td>\n",
       "      <td>91.4867</td>\n",
       "    </tr>\n",
       "    <tr>\n",
       "      <th>2016-10-01</th>\n",
       "      <td>91.4867</td>\n",
       "      <td>92.8900</td>\n",
       "    </tr>\n",
       "    <tr>\n",
       "      <th>2016-11-01</th>\n",
       "      <td>92.8900</td>\n",
       "      <td>112.7694</td>\n",
       "    </tr>\n",
       "  </tbody>\n",
       "</table>\n",
       "</div>"
      ],
      "text/plain": [
       "            producao    target\n",
       "DATE                          \n",
       "2016-07-01  114.5397  115.5159\n",
       "2016-08-01  115.5159  102.7637\n",
       "2016-09-01  102.7637   91.4867\n",
       "2016-10-01   91.4867   92.8900\n",
       "2016-11-01   92.8900  112.7694"
      ]
     },
     "execution_count": 34,
     "metadata": {},
     "output_type": "execute_result"
    }
   ],
   "source": [
    "treino = treino.dropna()\n",
    "treino.tail()"
   ]
  },
  {
   "cell_type": "code",
   "execution_count": null,
   "id": "f72a21af",
   "metadata": {},
   "outputs": [
    {
     "name": "stderr",
     "output_type": "stream",
     "text": [
      "F:\\leon\\venvs\\live02_series_temporais\\lib\\site-packages\\ipykernel_launcher.py:1: SettingWithCopyWarning: \n",
      "A value is trying to be set on a copy of a slice from a DataFrame.\n",
      "Try using .loc[row_indexer,col_indexer] = value instead\n",
      "\n",
      "See the caveats in the documentation: https://pandas.pydata.org/pandas-docs/stable/user_guide/indexing.html#returning-a-view-versus-a-copy\n",
      "  \"\"\"Entry point for launching an IPython kernel.\n"
     ]
    },
    {
     "data": {
      "text/html": [
       "<div>\n",
       "<style scoped>\n",
       "    .dataframe tbody tr th:only-of-type {\n",
       "        vertical-align: middle;\n",
       "    }\n",
       "\n",
       "    .dataframe tbody tr th {\n",
       "        vertical-align: top;\n",
       "    }\n",
       "\n",
       "    .dataframe thead th {\n",
       "        text-align: right;\n",
       "    }\n",
       "</style>\n",
       "<table border=\"1\" class=\"dataframe\">\n",
       "  <thead>\n",
       "    <tr style=\"text-align: right;\">\n",
       "      <th></th>\n",
       "      <th>producao</th>\n",
       "      <th>target</th>\n",
       "    </tr>\n",
       "    <tr>\n",
       "      <th>DATE</th>\n",
       "      <th></th>\n",
       "      <th></th>\n",
       "    </tr>\n",
       "  </thead>\n",
       "  <tbody>\n",
       "    <tr>\n",
       "      <th>2017-01-01</th>\n",
       "      <td>114.8505</td>\n",
       "      <td>99.4901</td>\n",
       "    </tr>\n",
       "    <tr>\n",
       "      <th>2017-02-01</th>\n",
       "      <td>99.4901</td>\n",
       "      <td>101.0396</td>\n",
       "    </tr>\n",
       "    <tr>\n",
       "      <th>2017-03-01</th>\n",
       "      <td>101.0396</td>\n",
       "      <td>88.3530</td>\n",
       "    </tr>\n",
       "    <tr>\n",
       "      <th>2017-04-01</th>\n",
       "      <td>88.3530</td>\n",
       "      <td>92.0805</td>\n",
       "    </tr>\n",
       "    <tr>\n",
       "      <th>2017-05-01</th>\n",
       "      <td>92.0805</td>\n",
       "      <td>102.1532</td>\n",
       "    </tr>\n",
       "  </tbody>\n",
       "</table>\n",
       "</div>"
      ],
      "text/plain": [
       "            producao    target\n",
       "DATE                          \n",
       "2017-01-01  114.8505   99.4901\n",
       "2017-02-01   99.4901  101.0396\n",
       "2017-03-01  101.0396   88.3530\n",
       "2017-04-01   88.3530   92.0805\n",
       "2017-05-01   92.0805  102.1532"
      ]
     },
     "execution_count": 35,
     "metadata": {},
     "output_type": "execute_result"
    }
   ],
   "source": [
    "validacao['target'] = validacao['preco'].shift(-1)\n",
    "validacao.head()"
   ]
  },
  {
   "cell_type": "code",
   "execution_count": null,
   "id": "4b3dc08e",
   "metadata": {},
   "outputs": [
    {
     "data": {
      "text/html": [
       "<div>\n",
       "<style scoped>\n",
       "    .dataframe tbody tr th:only-of-type {\n",
       "        vertical-align: middle;\n",
       "    }\n",
       "\n",
       "    .dataframe tbody tr th {\n",
       "        vertical-align: top;\n",
       "    }\n",
       "\n",
       "    .dataframe thead th {\n",
       "        text-align: right;\n",
       "    }\n",
       "</style>\n",
       "<table border=\"1\" class=\"dataframe\">\n",
       "  <thead>\n",
       "    <tr style=\"text-align: right;\">\n",
       "      <th></th>\n",
       "      <th>producao</th>\n",
       "      <th>target</th>\n",
       "    </tr>\n",
       "    <tr>\n",
       "      <th>DATE</th>\n",
       "      <th></th>\n",
       "      <th></th>\n",
       "    </tr>\n",
       "  </thead>\n",
       "  <tbody>\n",
       "    <tr>\n",
       "      <th>2017-09-01</th>\n",
       "      <td>98.6154</td>\n",
       "      <td>93.6137</td>\n",
       "    </tr>\n",
       "    <tr>\n",
       "      <th>2017-10-01</th>\n",
       "      <td>93.6137</td>\n",
       "      <td>97.3359</td>\n",
       "    </tr>\n",
       "    <tr>\n",
       "      <th>2017-11-01</th>\n",
       "      <td>97.3359</td>\n",
       "      <td>114.7212</td>\n",
       "    </tr>\n",
       "    <tr>\n",
       "      <th>2017-12-01</th>\n",
       "      <td>114.7212</td>\n",
       "      <td>129.4048</td>\n",
       "    </tr>\n",
       "    <tr>\n",
       "      <th>2018-01-01</th>\n",
       "      <td>129.4048</td>\n",
       "      <td>NaN</td>\n",
       "    </tr>\n",
       "  </tbody>\n",
       "</table>\n",
       "</div>"
      ],
      "text/plain": [
       "            producao    target\n",
       "DATE                          \n",
       "2017-09-01   98.6154   93.6137\n",
       "2017-10-01   93.6137   97.3359\n",
       "2017-11-01   97.3359  114.7212\n",
       "2017-12-01  114.7212  129.4048\n",
       "2018-01-01  129.4048       NaN"
      ]
     },
     "execution_count": 36,
     "metadata": {},
     "output_type": "execute_result"
    }
   ],
   "source": [
    "validacao.tail()"
   ]
  },
  {
   "cell_type": "code",
   "execution_count": null,
   "id": "cdd8e408",
   "metadata": {},
   "outputs": [
    {
     "data": {
      "text/html": [
       "<div>\n",
       "<style scoped>\n",
       "    .dataframe tbody tr th:only-of-type {\n",
       "        vertical-align: middle;\n",
       "    }\n",
       "\n",
       "    .dataframe tbody tr th {\n",
       "        vertical-align: top;\n",
       "    }\n",
       "\n",
       "    .dataframe thead th {\n",
       "        text-align: right;\n",
       "    }\n",
       "</style>\n",
       "<table border=\"1\" class=\"dataframe\">\n",
       "  <thead>\n",
       "    <tr style=\"text-align: right;\">\n",
       "      <th></th>\n",
       "      <th>producao</th>\n",
       "      <th>target</th>\n",
       "    </tr>\n",
       "    <tr>\n",
       "      <th>DATE</th>\n",
       "      <th></th>\n",
       "      <th></th>\n",
       "    </tr>\n",
       "  </thead>\n",
       "  <tbody>\n",
       "    <tr>\n",
       "      <th>2017-08-01</th>\n",
       "      <td>108.9312</td>\n",
       "      <td>98.6154</td>\n",
       "    </tr>\n",
       "    <tr>\n",
       "      <th>2017-09-01</th>\n",
       "      <td>98.6154</td>\n",
       "      <td>93.6137</td>\n",
       "    </tr>\n",
       "    <tr>\n",
       "      <th>2017-10-01</th>\n",
       "      <td>93.6137</td>\n",
       "      <td>97.3359</td>\n",
       "    </tr>\n",
       "    <tr>\n",
       "      <th>2017-11-01</th>\n",
       "      <td>97.3359</td>\n",
       "      <td>114.7212</td>\n",
       "    </tr>\n",
       "    <tr>\n",
       "      <th>2017-12-01</th>\n",
       "      <td>114.7212</td>\n",
       "      <td>129.4048</td>\n",
       "    </tr>\n",
       "  </tbody>\n",
       "</table>\n",
       "</div>"
      ],
      "text/plain": [
       "            producao    target\n",
       "DATE                          \n",
       "2017-08-01  108.9312   98.6154\n",
       "2017-09-01   98.6154   93.6137\n",
       "2017-10-01   93.6137   97.3359\n",
       "2017-11-01   97.3359  114.7212\n",
       "2017-12-01  114.7212  129.4048"
      ]
     },
     "execution_count": 37,
     "metadata": {},
     "output_type": "execute_result"
    }
   ],
   "source": [
    "validacao = validacao.dropna()\n",
    "validacao.tail()"
   ]
  },
  {
   "cell_type": "code",
   "execution_count": null,
   "id": "06e7d1d9",
   "metadata": {},
   "outputs": [
    {
     "data": {
      "text/plain": [
       "((383, 1), (383, 1), (12, 1), (12, 1))"
      ]
     },
     "execution_count": 38,
     "metadata": {},
     "output_type": "execute_result"
    }
   ],
   "source": [
    "X_treino = treino.loc[:, ['preco']].values\n",
    "y_treino = treino.loc[:, ['target']].values\n",
    "X_validacao = validacao.loc[:, ['preco']].values\n",
    "y_validacao = validacao.loc[:, ['target']].values\n",
    "\n",
    "X_treino.shape, y_treino.shape, X_validacao.shape, y_validacao.shape"
   ]
  },
  {
   "cell_type": "code",
   "execution_count": null,
   "id": "f649a6ae",
   "metadata": {},
   "outputs": [],
   "source": [
    "modelo_xgb_um_dia = XGBRegressor(objective=\"reg:squarederror\", n_estimators=1000)\n",
    "modelo_xgb_um_dia.fit(X_treino, y_treino)"
   ]
  },
  {
   "cell_type": "code",
   "execution_count": null,
   "id": "c72a15a5",
   "metadata": {},
   "outputs": [],
   "source": [
    "ultima_linha = treino.iloc[-1]\n",
    "ultima_linha['preco']"
   ]
  },
  {
   "cell_type": "code",
   "execution_count": null,
   "id": "c6b4c6a1",
   "metadata": {},
   "outputs": [],
   "source": [
    "ultimo_valor_treino = np.array([ultima_linha['preco']])"
   ]
  },
  {
   "cell_type": "code",
   "execution_count": null,
   "id": "7b82f1d5",
   "metadata": {},
   "outputs": [],
   "source": [
    "predicao = modelo_xgb_um_dia.predict(ultimo_valor_treino)\n",
    "predicao"
   ]
  },
  {
   "cell_type": "code",
   "execution_count": null,
   "id": "abd80ca1",
   "metadata": {},
   "outputs": [],
   "source": [
    "X_validacao[0]"
   ]
  },
  {
   "cell_type": "code",
   "execution_count": null,
   "id": "88530a78",
   "metadata": {},
   "outputs": [],
   "source": [
    "mean_squared_error(X_validacao[0], predicao)"
   ]
  },
  {
   "cell_type": "code",
   "execution_count": null,
   "id": "e8d7e335",
   "metadata": {},
   "outputs": [],
   "source": []
  }
 ],
 "metadata": {
  "kernelspec": {
   "display_name": "Python 3.9.12 ('econometria')",
   "language": "python",
   "name": "python3"
  },
  "language_info": {
   "codemirror_mode": {
    "name": "ipython",
    "version": 3
   },
   "file_extension": ".py",
   "mimetype": "text/x-python",
   "name": "python",
   "nbconvert_exporter": "python",
   "pygments_lexer": "ipython3",
   "version": "3.9.12"
  },
  "vscode": {
   "interpreter": {
    "hash": "2d77b586cfa25f3cadafc2a7d9d2ffb1689fffb3b5bbb5f99a0b413248eba82d"
   }
  }
 },
 "nbformat": 4,
 "nbformat_minor": 5
}
