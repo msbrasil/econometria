{
 "cells": [
  {
   "cell_type": "code",
   "execution_count": 1,
   "metadata": {},
   "outputs": [
    {
     "name": "stdout",
     "output_type": "stream",
     "text": [
      "            close\n",
      "date             \n",
      "2000-01-03  5.875\n",
      "2000-01-04  5.550\n",
      "2000-01-05  5.494\n",
      "2000-01-06  5.475\n",
      "2000-01-07  5.500\n",
      "               close\n",
      "date                \n",
      "2000-01-04 -0.055319\n",
      "2000-01-05 -0.010090\n",
      "2000-01-06 -0.003458\n",
      "2000-01-07  0.004566\n",
      "2000-01-10  0.020545\n"
     ]
    }
   ],
   "source": [
    "# import libraries\n",
    "import pandas as pd\n",
    "import statsmodels.api as sm\n",
    "\n",
    "'''\n",
    "Download monthly prices of Facebook and S&P 500 index from 2014 to 2017\n",
    "CSV file downloaded from Yahoo File\n",
    "start period: 02/11/2014 \n",
    "end period: 30/11/2014\n",
    "period format: DD/MM/YEAR\n",
    "'''\n",
    "df = pd.read_csv('petr4.csv', parse_dates=True, index_col='date',)\n",
    "#sp_500 = pd.read_csv('^GSPC.csv', parse_dates=True, index_col='Date')\n",
    "\n",
    "# joining the closing prices of the two datasets \n",
    "#monthly_prices = pd.concat([fb['Close'], sp_500['Close']], axis=1)\n",
    "#monthly_prices.columns = ['FB', '^GSPC']\n",
    "\n",
    "# check the head of the dataframe\n",
    "print(df.head())\n",
    "\n",
    "# calculate monthly returns\n",
    "monthly_returns = df.pct_change(1)\n",
    "clean_monthly_returns = monthly_returns.dropna(axis=0)  # drop first missing row\n",
    "print(clean_monthly_returns.head())"
   ]
  }
 ],
 "metadata": {
  "kernelspec": {
   "display_name": "Python 3.9.12 ('econometria')",
   "language": "python",
   "name": "python3"
  },
  "language_info": {
   "codemirror_mode": {
    "name": "ipython",
    "version": 3
   },
   "file_extension": ".py",
   "mimetype": "text/x-python",
   "name": "python",
   "nbconvert_exporter": "python",
   "pygments_lexer": "ipython3",
   "version": "3.9.12"
  },
  "orig_nbformat": 4,
  "vscode": {
   "interpreter": {
    "hash": "2d77b586cfa25f3cadafc2a7d9d2ffb1689fffb3b5bbb5f99a0b413248eba82d"
   }
  }
 },
 "nbformat": 4,
 "nbformat_minor": 2
}
